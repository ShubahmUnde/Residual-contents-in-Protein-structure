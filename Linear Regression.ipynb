{
 "cells": [
  {
   "cell_type": "markdown",
   "metadata": {},
   "source": [
    "#Linear regression using Ordinary Least square (OLS) method"
   ]
  },
  {
   "cell_type": "markdown",
   "metadata": {},
   "source": [
    "#import libraries"
   ]
  },
  {
   "cell_type": "code",
   "execution_count": 1,
   "metadata": {},
   "outputs": [],
   "source": [
    "import pandas as pd\n",
    "import numpy as np"
   ]
  },
  {
   "cell_type": "markdown",
   "metadata": {},
   "source": [
    "split data and cross-validation"
   ]
  },
  {
   "cell_type": "code",
   "execution_count": 2,
   "metadata": {},
   "outputs": [],
   "source": [
    "from sklearn.model_selection import train_test_split, KFold,cross_val_score"
   ]
  },
  {
   "cell_type": "markdown",
   "metadata": {},
   "source": [
    "OLS library for linear regression"
   ]
  },
  {
   "cell_type": "code",
   "execution_count": 3,
   "metadata": {},
   "outputs": [],
   "source": [
    "import statsmodels.api as sm"
   ]
  },
  {
   "cell_type": "markdown",
   "metadata": {},
   "source": [
    "visualisation"
   ]
  },
  {
   "cell_type": "code",
   "execution_count": 4,
   "metadata": {},
   "outputs": [],
   "source": [
    "import pylab\n",
    "import matplotlib.pyplot as plt\n",
    "import seaborn as sns"
   ]
  },
  {
   "cell_type": "code",
   "execution_count": 5,
   "metadata": {},
   "outputs": [],
   "source": [
    "from sklearn.metrics import mean_squared_error"
   ]
  },
  {
   "cell_type": "code",
   "execution_count": 6,
   "metadata": {},
   "outputs": [],
   "source": [
    "import scipy.stats as stats "
   ]
  },
  {
   "cell_type": "markdown",
   "metadata": {},
   "source": [
    "VIF(variabel Infliation factor)(so called corealtion score)"
   ]
  },
  {
   "cell_type": "code",
   "execution_count": 7,
   "metadata": {},
   "outputs": [],
   "source": [
    "from statsmodels.stats.outliers_influence import variance_inflation_factor"
   ]
  },
  {
   "cell_type": "markdown",
   "metadata": {},
   "source": [
    "feature selection for regression"
   ]
  },
  {
   "cell_type": "code",
   "execution_count": 8,
   "metadata": {},
   "outputs": [],
   "source": [
    "from sklearn.feature_selection import f_regression"
   ]
  },
  {
   "cell_type": "markdown",
   "metadata": {},
   "source": [
    "read the dataset"
   ]
  },
  {
   "cell_type": "code",
   "execution_count": 10,
   "metadata": {},
   "outputs": [],
   "source": [
    "path=\"F:\\DATA SCIENCE\\python\\py\\ALGORITHMS\\Linear Regression using Python\\Protien contetn prediction\\prot.csv\"\n",
    "prot=pd.read_csv(path)"
   ]
  },
  {
   "cell_type": "code",
   "execution_count": 11,
   "metadata": {},
   "outputs": [
    {
     "data": {
      "text/html": [
       "<div>\n",
       "<style scoped>\n",
       "    .dataframe tbody tr th:only-of-type {\n",
       "        vertical-align: middle;\n",
       "    }\n",
       "\n",
       "    .dataframe tbody tr th {\n",
       "        vertical-align: top;\n",
       "    }\n",
       "\n",
       "    .dataframe thead th {\n",
       "        text-align: right;\n",
       "    }\n",
       "</style>\n",
       "<table border=\"1\" class=\"dataframe\">\n",
       "  <thead>\n",
       "    <tr style=\"text-align: right;\">\n",
       "      <th></th>\n",
       "      <th>Unnamed: 0</th>\n",
       "      <th>tot_surf_area</th>\n",
       "      <th>npe_area</th>\n",
       "      <th>fa_enpr</th>\n",
       "      <th>RMSD</th>\n",
       "      <th>fa_enppr</th>\n",
       "      <th>molmass_ea</th>\n",
       "      <th>avg_dev</th>\n",
       "      <th>euc_dist</th>\n",
       "      <th>ssp</th>\n",
       "      <th>sdc</th>\n",
       "      <th>X</th>\n",
       "      <th>X.1</th>\n",
       "      <th>s</th>\n",
       "      <th>t</th>\n",
       "      <th>u</th>\n",
       "    </tr>\n",
       "  </thead>\n",
       "  <tbody>\n",
       "    <tr>\n",
       "      <th>0</th>\n",
       "      <td>1</td>\n",
       "      <td>18775.10</td>\n",
       "      <td>5379.74</td>\n",
       "      <td>0.28653</td>\n",
       "      <td>2.555</td>\n",
       "      <td>253.3780</td>\n",
       "      <td>2543981.045</td>\n",
       "      <td>316.588</td>\n",
       "      <td>5729.45</td>\n",
       "      <td>0</td>\n",
       "      <td>21.4332</td>\n",
       "      <td>NaN</td>\n",
       "      <td>NaN</td>\n",
       "      <td>NaN</td>\n",
       "      <td>NaN</td>\n",
       "      <td>NaN</td>\n",
       "    </tr>\n",
       "    <tr>\n",
       "      <th>1</th>\n",
       "      <td>2</td>\n",
       "      <td>6577.95</td>\n",
       "      <td>2216.25</td>\n",
       "      <td>0.33692</td>\n",
       "      <td>10.330</td>\n",
       "      <td>61.6351</td>\n",
       "      <td>869891.523</td>\n",
       "      <td>105.043</td>\n",
       "      <td>2815.13</td>\n",
       "      <td>0</td>\n",
       "      <td>40.6875</td>\n",
       "      <td>NaN</td>\n",
       "      <td>NaN</td>\n",
       "      <td>NaN</td>\n",
       "      <td>NaN</td>\n",
       "      <td>NaN</td>\n",
       "    </tr>\n",
       "    <tr>\n",
       "      <th>2</th>\n",
       "      <td>3</td>\n",
       "      <td>21164.30</td>\n",
       "      <td>7060.92</td>\n",
       "      <td>0.33362</td>\n",
       "      <td>3.713</td>\n",
       "      <td>254.7890</td>\n",
       "      <td>2961050.576</td>\n",
       "      <td>330.066</td>\n",
       "      <td>5545.96</td>\n",
       "      <td>0</td>\n",
       "      <td>23.4201</td>\n",
       "      <td>NaN</td>\n",
       "      <td>NaN</td>\n",
       "      <td>NaN</td>\n",
       "      <td>NaN</td>\n",
       "      <td>NaN</td>\n",
       "    </tr>\n",
       "  </tbody>\n",
       "</table>\n",
       "</div>"
      ],
      "text/plain": [
       "   Unnamed: 0  tot_surf_area  npe_area  fa_enpr    RMSD  fa_enppr  \\\n",
       "0           1       18775.10   5379.74  0.28653   2.555  253.3780   \n",
       "1           2        6577.95   2216.25  0.33692  10.330   61.6351   \n",
       "2           3       21164.30   7060.92  0.33362   3.713  254.7890   \n",
       "\n",
       "    molmass_ea  avg_dev  euc_dist  ssp      sdc   X  X.1   s   t   u  \n",
       "0  2543981.045  316.588   5729.45    0  21.4332 NaN  NaN NaN NaN NaN  \n",
       "1   869891.523  105.043   2815.13    0  40.6875 NaN  NaN NaN NaN NaN  \n",
       "2  2961050.576  330.066   5545.96    0  23.4201 NaN  NaN NaN NaN NaN  "
      ]
     },
     "execution_count": 11,
     "metadata": {},
     "output_type": "execute_result"
    }
   ],
   "source": [
    "prot.head(3)"
   ]
  },
  {
   "cell_type": "markdown",
   "metadata": {},
   "source": [
    "to change the display settings (to get full view)"
   ]
  },
  {
   "cell_type": "code",
   "execution_count": null,
   "metadata": {},
   "outputs": [],
   "source": [
    "pd.set_option('display.expand_frame_repr',False)"
   ]
  },
  {
   "cell_type": "markdown",
   "metadata": {},
   "source": [
    "remove the unwanted columns"
   ]
  },
  {
   "cell_type": "code",
   "execution_count": 12,
   "metadata": {},
   "outputs": [
    {
     "data": {
      "text/plain": [
       "Index(['tot_surf_area', 'npe_area', 'fa_enpr', 'RMSD', 'fa_enppr',\n",
       "       'molmass_ea', 'avg_dev', 'euc_dist', 'ssp', 'sdc'],\n",
       "      dtype='object')"
      ]
     },
     "execution_count": 12,
     "metadata": {},
     "output_type": "execute_result"
    }
   ],
   "source": [
    "prot = prot.drop(['Unnamed: 0','X','X.1','s','t','u'],axis=1)\n",
    "prot.columns"
   ]
  },
  {
   "cell_type": "markdown",
   "metadata": {},
   "source": [
    "dimension (R,C)"
   ]
  },
  {
   "cell_type": "code",
   "execution_count": 15,
   "metadata": {},
   "outputs": [
    {
     "data": {
      "text/plain": [
       "10"
      ]
     },
     "execution_count": 15,
     "metadata": {},
     "output_type": "execute_result"
    }
   ],
   "source": [
    "prot.shape\n",
    "prot.shape[0] # total rows\n",
    "prot.shape[1] # total columns"
   ]
  },
  {
   "cell_type": "markdown",
   "metadata": {},
   "source": [
    "head/tail"
   ]
  },
  {
   "cell_type": "code",
   "execution_count": 17,
   "metadata": {},
   "outputs": [
    {
     "data": {
      "text/html": [
       "<div>\n",
       "<style scoped>\n",
       "    .dataframe tbody tr th:only-of-type {\n",
       "        vertical-align: middle;\n",
       "    }\n",
       "\n",
       "    .dataframe tbody tr th {\n",
       "        vertical-align: top;\n",
       "    }\n",
       "\n",
       "    .dataframe thead th {\n",
       "        text-align: right;\n",
       "    }\n",
       "</style>\n",
       "<table border=\"1\" class=\"dataframe\">\n",
       "  <thead>\n",
       "    <tr style=\"text-align: right;\">\n",
       "      <th></th>\n",
       "      <th>tot_surf_area</th>\n",
       "      <th>npe_area</th>\n",
       "      <th>fa_enpr</th>\n",
       "      <th>RMSD</th>\n",
       "      <th>fa_enppr</th>\n",
       "      <th>molmass_ea</th>\n",
       "      <th>avg_dev</th>\n",
       "      <th>euc_dist</th>\n",
       "      <th>ssp</th>\n",
       "      <th>sdc</th>\n",
       "    </tr>\n",
       "  </thead>\n",
       "  <tbody>\n",
       "    <tr>\n",
       "      <th>15218</th>\n",
       "      <td>9452.72</td>\n",
       "      <td>2370.81</td>\n",
       "      <td>0.25080</td>\n",
       "      <td>1.840</td>\n",
       "      <td>100.952</td>\n",
       "      <td>1332037.0</td>\n",
       "      <td>142.940</td>\n",
       "      <td>3935.91</td>\n",
       "      <td>0</td>\n",
       "      <td>33.4059</td>\n",
       "    </tr>\n",
       "    <tr>\n",
       "      <th>15219</th>\n",
       "      <td>9211.97</td>\n",
       "      <td>2877.44</td>\n",
       "      <td>0.31235</td>\n",
       "      <td>2.558</td>\n",
       "      <td>106.619</td>\n",
       "      <td>1280889.0</td>\n",
       "      <td>129.175</td>\n",
       "      <td>3885.18</td>\n",
       "      <td>0</td>\n",
       "      <td>33.9044</td>\n",
       "    </tr>\n",
       "  </tbody>\n",
       "</table>\n",
       "</div>"
      ],
      "text/plain": [
       "       tot_surf_area  npe_area  fa_enpr   RMSD  fa_enppr  molmass_ea  avg_dev  \\\n",
       "15218        9452.72   2370.81  0.25080  1.840   100.952   1332037.0  142.940   \n",
       "15219        9211.97   2877.44  0.31235  2.558   106.619   1280889.0  129.175   \n",
       "\n",
       "       euc_dist  ssp      sdc  \n",
       "15218   3935.91    0  33.4059  \n",
       "15219   3885.18    0  33.9044  "
      ]
     },
     "execution_count": 17,
     "metadata": {},
     "output_type": "execute_result"
    }
   ],
   "source": [
    "prot.head(2)\n",
    "prot.tail(2)"
   ]
  },
  {
   "cell_type": "markdown",
   "metadata": {},
   "source": [
    "data summary"
   ]
  },
  {
   "cell_type": "code",
   "execution_count": 18,
   "metadata": {},
   "outputs": [
    {
     "data": {
      "text/html": [
       "<div>\n",
       "<style scoped>\n",
       "    .dataframe tbody tr th:only-of-type {\n",
       "        vertical-align: middle;\n",
       "    }\n",
       "\n",
       "    .dataframe tbody tr th {\n",
       "        vertical-align: top;\n",
       "    }\n",
       "\n",
       "    .dataframe thead th {\n",
       "        text-align: right;\n",
       "    }\n",
       "</style>\n",
       "<table border=\"1\" class=\"dataframe\">\n",
       "  <thead>\n",
       "    <tr style=\"text-align: right;\">\n",
       "      <th></th>\n",
       "      <th>tot_surf_area</th>\n",
       "      <th>npe_area</th>\n",
       "      <th>fa_enpr</th>\n",
       "      <th>RMSD</th>\n",
       "      <th>fa_enppr</th>\n",
       "      <th>molmass_ea</th>\n",
       "      <th>avg_dev</th>\n",
       "      <th>euc_dist</th>\n",
       "      <th>ssp</th>\n",
       "      <th>sdc</th>\n",
       "    </tr>\n",
       "  </thead>\n",
       "  <tbody>\n",
       "    <tr>\n",
       "      <th>count</th>\n",
       "      <td>15220.000000</td>\n",
       "      <td>15192.000000</td>\n",
       "      <td>15220.000000</td>\n",
       "      <td>15220.000000</td>\n",
       "      <td>15220.000000</td>\n",
       "      <td>1.522000e+04</td>\n",
       "      <td>15220.000000</td>\n",
       "      <td>15220.000000</td>\n",
       "      <td>15220.0</td>\n",
       "      <td>15220.000000</td>\n",
       "    </tr>\n",
       "    <tr>\n",
       "      <th>mean</th>\n",
       "      <td>9828.036643</td>\n",
       "      <td>3002.560134</td>\n",
       "      <td>0.301851</td>\n",
       "      <td>7.763073</td>\n",
       "      <td>103.202423</td>\n",
       "      <td>1.363997e+06</td>\n",
       "      <td>145.003757</td>\n",
       "      <td>3970.738154</td>\n",
       "      <td>0.0</td>\n",
       "      <td>34.540985</td>\n",
       "    </tr>\n",
       "    <tr>\n",
       "      <th>std</th>\n",
       "      <td>4084.711709</td>\n",
       "      <td>1464.159034</td>\n",
       "      <td>0.062786</td>\n",
       "      <td>6.120841</td>\n",
       "      <td>55.652543</td>\n",
       "      <td>5.655366e+05</td>\n",
       "      <td>70.050058</td>\n",
       "      <td>1738.141666</td>\n",
       "      <td>0.0</td>\n",
       "      <td>5.976616</td>\n",
       "    </tr>\n",
       "    <tr>\n",
       "      <th>min</th>\n",
       "      <td>0.000000</td>\n",
       "      <td>510.530000</td>\n",
       "      <td>0.102600</td>\n",
       "      <td>0.000000</td>\n",
       "      <td>10.310100</td>\n",
       "      <td>3.743155e+05</td>\n",
       "      <td>32.865300</td>\n",
       "      <td>1107.130000</td>\n",
       "      <td>0.0</td>\n",
       "      <td>15.746700</td>\n",
       "    </tr>\n",
       "    <tr>\n",
       "      <th>25%</th>\n",
       "      <td>6895.102500</td>\n",
       "      <td>1974.707500</td>\n",
       "      <td>0.258145</td>\n",
       "      <td>2.306000</td>\n",
       "      <td>63.550925</td>\n",
       "      <td>9.512150e+05</td>\n",
       "      <td>94.482100</td>\n",
       "      <td>3168.862500</td>\n",
       "      <td>0.0</td>\n",
       "      <td>30.471975</td>\n",
       "    </tr>\n",
       "    <tr>\n",
       "      <th>50%</th>\n",
       "      <td>8841.975000</td>\n",
       "      <td>2653.765000</td>\n",
       "      <td>0.299545</td>\n",
       "      <td>5.026500</td>\n",
       "      <td>86.922200</td>\n",
       "      <td>1.230739e+06</td>\n",
       "      <td>124.908000</td>\n",
       "      <td>3821.885000</td>\n",
       "      <td>0.0</td>\n",
       "      <td>35.355650</td>\n",
       "    </tr>\n",
       "    <tr>\n",
       "      <th>75%</th>\n",
       "      <td>12060.850000</td>\n",
       "      <td>3749.602500</td>\n",
       "      <td>0.342545</td>\n",
       "      <td>13.428500</td>\n",
       "      <td>132.978250</td>\n",
       "      <td>1.683800e+06</td>\n",
       "      <td>180.563000</td>\n",
       "      <td>4635.200000</td>\n",
       "      <td>0.0</td>\n",
       "      <td>38.863825</td>\n",
       "    </tr>\n",
       "    <tr>\n",
       "      <th>max</th>\n",
       "      <td>40034.900000</td>\n",
       "      <td>15312.000000</td>\n",
       "      <td>0.569740</td>\n",
       "      <td>20.999000</td>\n",
       "      <td>369.317000</td>\n",
       "      <td>5.472011e+06</td>\n",
       "      <td>598.408000</td>\n",
       "      <td>73461.200000</td>\n",
       "      <td>0.0</td>\n",
       "      <td>54.755100</td>\n",
       "    </tr>\n",
       "  </tbody>\n",
       "</table>\n",
       "</div>"
      ],
      "text/plain": [
       "       tot_surf_area      npe_area       fa_enpr          RMSD      fa_enppr  \\\n",
       "count   15220.000000  15192.000000  15220.000000  15220.000000  15220.000000   \n",
       "mean     9828.036643   3002.560134      0.301851      7.763073    103.202423   \n",
       "std      4084.711709   1464.159034      0.062786      6.120841     55.652543   \n",
       "min         0.000000    510.530000      0.102600      0.000000     10.310100   \n",
       "25%      6895.102500   1974.707500      0.258145      2.306000     63.550925   \n",
       "50%      8841.975000   2653.765000      0.299545      5.026500     86.922200   \n",
       "75%     12060.850000   3749.602500      0.342545     13.428500    132.978250   \n",
       "max     40034.900000  15312.000000      0.569740     20.999000    369.317000   \n",
       "\n",
       "         molmass_ea       avg_dev      euc_dist      ssp           sdc  \n",
       "count  1.522000e+04  15220.000000  15220.000000  15220.0  15220.000000  \n",
       "mean   1.363997e+06    145.003757   3970.738154      0.0     34.540985  \n",
       "std    5.655366e+05     70.050058   1738.141666      0.0      5.976616  \n",
       "min    3.743155e+05     32.865300   1107.130000      0.0     15.746700  \n",
       "25%    9.512150e+05     94.482100   3168.862500      0.0     30.471975  \n",
       "50%    1.230739e+06    124.908000   3821.885000      0.0     35.355650  \n",
       "75%    1.683800e+06    180.563000   4635.200000      0.0     38.863825  \n",
       "max    5.472011e+06    598.408000  73461.200000      0.0     54.755100  "
      ]
     },
     "execution_count": 18,
     "metadata": {},
     "output_type": "execute_result"
    }
   ],
   "source": [
    "prot.describe()"
   ]
  },
  {
   "cell_type": "markdown",
   "metadata": {},
   "source": [
    "from summary, we see column 'ssp' has all the measures as 0. so we can remove it from the dataset"
   ]
  },
  {
   "cell_type": "code",
   "execution_count": 19,
   "metadata": {},
   "outputs": [],
   "source": [
    "prot = prot.drop('ssp',axis=1)"
   ]
  },
  {
   "cell_type": "markdown",
   "metadata": {},
   "source": [
    "check for NULLs"
   ]
  },
  {
   "cell_type": "markdown",
   "metadata": {},
   "source": [
    "#EXploratory Data Analysis and imputation"
   ]
  },
  {
   "cell_type": "code",
   "execution_count": 20,
   "metadata": {},
   "outputs": [
    {
     "data": {
      "text/plain": [
       "tot_surf_area     0\n",
       "npe_area         28\n",
       "fa_enpr           0\n",
       "RMSD              0\n",
       "fa_enppr          0\n",
       "molmass_ea        0\n",
       "avg_dev           0\n",
       "euc_dist          0\n",
       "sdc               0\n",
       "dtype: int64"
      ]
     },
     "execution_count": 20,
     "metadata": {},
     "output_type": "execute_result"
    }
   ],
   "source": [
    "prot.isnull().sum()"
   ]
  },
  {
   "cell_type": "code",
   "execution_count": null,
   "metadata": {},
   "outputs": [],
   "source": [
    "#print(prot)#so we take a null indexes and subsequnt column for refrence"
   ]
  },
  {
   "cell_type": "code",
   "execution_count": 21,
   "metadata": {},
   "outputs": [
    {
     "data": {
      "text/html": [
       "<div>\n",
       "<style scoped>\n",
       "    .dataframe tbody tr th:only-of-type {\n",
       "        vertical-align: middle;\n",
       "    }\n",
       "\n",
       "    .dataframe tbody tr th {\n",
       "        vertical-align: top;\n",
       "    }\n",
       "\n",
       "    .dataframe thead th {\n",
       "        text-align: right;\n",
       "    }\n",
       "</style>\n",
       "<table border=\"1\" class=\"dataframe\">\n",
       "  <thead>\n",
       "    <tr style=\"text-align: right;\">\n",
       "      <th></th>\n",
       "      <th>tot_surf_area</th>\n",
       "      <th>npe_area</th>\n",
       "    </tr>\n",
       "  </thead>\n",
       "  <tbody>\n",
       "    <tr>\n",
       "      <th>515</th>\n",
       "      <td>12412.90</td>\n",
       "      <td>NaN</td>\n",
       "    </tr>\n",
       "    <tr>\n",
       "      <th>540</th>\n",
       "      <td>8434.65</td>\n",
       "      <td>NaN</td>\n",
       "    </tr>\n",
       "    <tr>\n",
       "      <th>1510</th>\n",
       "      <td>8450.04</td>\n",
       "      <td>NaN</td>\n",
       "    </tr>\n",
       "    <tr>\n",
       "      <th>1784</th>\n",
       "      <td>7764.46</td>\n",
       "      <td>NaN</td>\n",
       "    </tr>\n",
       "    <tr>\n",
       "      <th>2275</th>\n",
       "      <td>8035.16</td>\n",
       "      <td>NaN</td>\n",
       "    </tr>\n",
       "    <tr>\n",
       "      <th>2424</th>\n",
       "      <td>10066.10</td>\n",
       "      <td>NaN</td>\n",
       "    </tr>\n",
       "    <tr>\n",
       "      <th>2650</th>\n",
       "      <td>8557.14</td>\n",
       "      <td>NaN</td>\n",
       "    </tr>\n",
       "    <tr>\n",
       "      <th>3009</th>\n",
       "      <td>9244.16</td>\n",
       "      <td>NaN</td>\n",
       "    </tr>\n",
       "    <tr>\n",
       "      <th>3635</th>\n",
       "      <td>8040.40</td>\n",
       "      <td>NaN</td>\n",
       "    </tr>\n",
       "    <tr>\n",
       "      <th>4421</th>\n",
       "      <td>10030.30</td>\n",
       "      <td>NaN</td>\n",
       "    </tr>\n",
       "    <tr>\n",
       "      <th>4526</th>\n",
       "      <td>8814.64</td>\n",
       "      <td>NaN</td>\n",
       "    </tr>\n",
       "    <tr>\n",
       "      <th>4529</th>\n",
       "      <td>7043.70</td>\n",
       "      <td>NaN</td>\n",
       "    </tr>\n",
       "    <tr>\n",
       "      <th>5214</th>\n",
       "      <td>7507.78</td>\n",
       "      <td>NaN</td>\n",
       "    </tr>\n",
       "    <tr>\n",
       "      <th>6692</th>\n",
       "      <td>7327.64</td>\n",
       "      <td>NaN</td>\n",
       "    </tr>\n",
       "    <tr>\n",
       "      <th>8137</th>\n",
       "      <td>9819.48</td>\n",
       "      <td>NaN</td>\n",
       "    </tr>\n",
       "    <tr>\n",
       "      <th>8782</th>\n",
       "      <td>5605.32</td>\n",
       "      <td>NaN</td>\n",
       "    </tr>\n",
       "    <tr>\n",
       "      <th>9360</th>\n",
       "      <td>8631.96</td>\n",
       "      <td>NaN</td>\n",
       "    </tr>\n",
       "    <tr>\n",
       "      <th>9408</th>\n",
       "      <td>8844.34</td>\n",
       "      <td>NaN</td>\n",
       "    </tr>\n",
       "    <tr>\n",
       "      <th>9718</th>\n",
       "      <td>10836.30</td>\n",
       "      <td>NaN</td>\n",
       "    </tr>\n",
       "    <tr>\n",
       "      <th>10247</th>\n",
       "      <td>9033.37</td>\n",
       "      <td>NaN</td>\n",
       "    </tr>\n",
       "    <tr>\n",
       "      <th>10456</th>\n",
       "      <td>11916.20</td>\n",
       "      <td>NaN</td>\n",
       "    </tr>\n",
       "    <tr>\n",
       "      <th>11071</th>\n",
       "      <td>6409.25</td>\n",
       "      <td>NaN</td>\n",
       "    </tr>\n",
       "    <tr>\n",
       "      <th>11354</th>\n",
       "      <td>7771.39</td>\n",
       "      <td>NaN</td>\n",
       "    </tr>\n",
       "    <tr>\n",
       "      <th>11638</th>\n",
       "      <td>8100.61</td>\n",
       "      <td>NaN</td>\n",
       "    </tr>\n",
       "    <tr>\n",
       "      <th>11681</th>\n",
       "      <td>6519.32</td>\n",
       "      <td>NaN</td>\n",
       "    </tr>\n",
       "    <tr>\n",
       "      <th>12011</th>\n",
       "      <td>7911.82</td>\n",
       "      <td>NaN</td>\n",
       "    </tr>\n",
       "    <tr>\n",
       "      <th>12972</th>\n",
       "      <td>9093.67</td>\n",
       "      <td>NaN</td>\n",
       "    </tr>\n",
       "    <tr>\n",
       "      <th>14708</th>\n",
       "      <td>9315.71</td>\n",
       "      <td>NaN</td>\n",
       "    </tr>\n",
       "  </tbody>\n",
       "</table>\n",
       "</div>"
      ],
      "text/plain": [
       "       tot_surf_area  npe_area\n",
       "515         12412.90       NaN\n",
       "540          8434.65       NaN\n",
       "1510         8450.04       NaN\n",
       "1784         7764.46       NaN\n",
       "2275         8035.16       NaN\n",
       "2424        10066.10       NaN\n",
       "2650         8557.14       NaN\n",
       "3009         9244.16       NaN\n",
       "3635         8040.40       NaN\n",
       "4421        10030.30       NaN\n",
       "4526         8814.64       NaN\n",
       "4529         7043.70       NaN\n",
       "5214         7507.78       NaN\n",
       "6692         7327.64       NaN\n",
       "8137         9819.48       NaN\n",
       "8782         5605.32       NaN\n",
       "9360         8631.96       NaN\n",
       "9408         8844.34       NaN\n",
       "9718        10836.30       NaN\n",
       "10247        9033.37       NaN\n",
       "10456       11916.20       NaN\n",
       "11071        6409.25       NaN\n",
       "11354        7771.39       NaN\n",
       "11638        8100.61       NaN\n",
       "11681        6519.32       NaN\n",
       "12011        7911.82       NaN\n",
       "12972        9093.67       NaN\n",
       "14708        9315.71       NaN"
      ]
     },
     "execution_count": 21,
     "metadata": {},
     "output_type": "execute_result"
    }
   ],
   "source": [
    "prot[['tot_surf_area','npe_area']][prot.npe_area.isnull()]"
   ]
  },
  {
   "cell_type": "markdown",
   "metadata": {},
   "source": [
    "impute 'npe_area' as tot_surf_area/3 where npe_area = NULL"
   ]
  },
  {
   "cell_type": "code",
   "execution_count": 23,
   "metadata": {},
   "outputs": [],
   "source": [
    "ndx = prot.npe_area[prot.npe_area.isnull()].index"
   ]
  },
  {
   "cell_type": "code",
   "execution_count": 24,
   "metadata": {},
   "outputs": [],
   "source": [
    "prot.npe_area[prot.npe_area.isnull()] = prot.tot_surf_area/3"
   ]
  },
  {
   "cell_type": "markdown",
   "metadata": {},
   "source": [
    "verify the changes and check for Nulls again"
   ]
  },
  {
   "cell_type": "code",
   "execution_count": 25,
   "metadata": {},
   "outputs": [
    {
     "data": {
      "text/plain": [
       "tot_surf_area    0\n",
       "npe_area         0\n",
       "fa_enpr          0\n",
       "RMSD             0\n",
       "fa_enppr         0\n",
       "molmass_ea       0\n",
       "avg_dev          0\n",
       "euc_dist         0\n",
       "sdc              0\n",
       "dtype: int64"
      ]
     },
     "execution_count": 25,
     "metadata": {},
     "output_type": "execute_result"
    }
   ],
   "source": [
    "prot[['tot_surf_area','npe_area']][prot.index.isin(ndx)] \n",
    "prot.isnull().sum()"
   ]
  },
  {
   "cell_type": "code",
   "execution_count": 26,
   "metadata": {},
   "outputs": [
    {
     "data": {
      "text/plain": [
       "tot_surf_area    float64\n",
       "npe_area         float64\n",
       "fa_enpr          float64\n",
       "RMSD             float64\n",
       "fa_enppr         float64\n",
       "molmass_ea       float64\n",
       "avg_dev          float64\n",
       "euc_dist         float64\n",
       "sdc              float64\n",
       "dtype: object"
      ]
     },
     "execution_count": 26,
     "metadata": {},
     "output_type": "execute_result"
    }
   ],
   "source": [
    "prot.dtypes"
   ]
  },
  {
   "cell_type": "markdown",
   "metadata": {},
   "source": [
    "check for 0"
   ]
  },
  {
   "cell_type": "code",
   "execution_count": 27,
   "metadata": {},
   "outputs": [
    {
     "data": {
      "text/plain": [
       "tot_surf_area    20\n",
       "npe_area          0\n",
       "fa_enpr           0\n",
       "RMSD             90\n",
       "fa_enppr          0\n",
       "molmass_ea        0\n",
       "avg_dev           0\n",
       "euc_dist          0\n",
       "sdc               0\n",
       "dtype: int64"
      ]
     },
     "execution_count": 27,
     "metadata": {},
     "output_type": "execute_result"
    }
   ],
   "source": [
    "prot[prot==0].count()"
   ]
  },
  {
   "cell_type": "markdown",
   "metadata": {},
   "source": [
    "impute 'tot_surf_area' = npe_area * 3 where tot_surf_area = 0"
   ]
  },
  {
   "cell_type": "code",
   "execution_count": null,
   "metadata": {},
   "outputs": [],
   "source": [
    "#we got 20 zero counts in total surfacea area column\n",
    "\n",
    "#Imputation is done by refrencing the columns and multiply it by 3"
   ]
  },
  {
   "cell_type": "code",
   "execution_count": 29,
   "metadata": {},
   "outputs": [],
   "source": [
    "prot[['tot_surf_area','npe_area']][prot.tot_surf_area==0]\n",
    "ndx=prot[['tot_surf_area','npe_area']][prot.tot_surf_area==0].index"
   ]
  },
  {
   "cell_type": "markdown",
   "metadata": {},
   "source": [
    "update"
   ]
  },
  {
   "cell_type": "code",
   "execution_count": 30,
   "metadata": {},
   "outputs": [],
   "source": [
    "prot.tot_surf_area[prot.tot_surf_area==0] = prot.npe_area*3"
   ]
  },
  {
   "cell_type": "markdown",
   "metadata": {},
   "source": [
    "verify the change"
   ]
  },
  {
   "cell_type": "code",
   "execution_count": 31,
   "metadata": {},
   "outputs": [
    {
     "data": {
      "text/html": [
       "<div>\n",
       "<style scoped>\n",
       "    .dataframe tbody tr th:only-of-type {\n",
       "        vertical-align: middle;\n",
       "    }\n",
       "\n",
       "    .dataframe tbody tr th {\n",
       "        vertical-align: top;\n",
       "    }\n",
       "\n",
       "    .dataframe thead th {\n",
       "        text-align: right;\n",
       "    }\n",
       "</style>\n",
       "<table border=\"1\" class=\"dataframe\">\n",
       "  <thead>\n",
       "    <tr style=\"text-align: right;\">\n",
       "      <th></th>\n",
       "      <th>tot_surf_area</th>\n",
       "      <th>npe_area</th>\n",
       "    </tr>\n",
       "  </thead>\n",
       "  <tbody>\n",
       "    <tr>\n",
       "      <th>347</th>\n",
       "      <td>6937.38</td>\n",
       "      <td>2312.46</td>\n",
       "    </tr>\n",
       "    <tr>\n",
       "      <th>608</th>\n",
       "      <td>8955.96</td>\n",
       "      <td>2985.32</td>\n",
       "    </tr>\n",
       "    <tr>\n",
       "      <th>1121</th>\n",
       "      <td>8118.93</td>\n",
       "      <td>2706.31</td>\n",
       "    </tr>\n",
       "    <tr>\n",
       "      <th>2166</th>\n",
       "      <td>10743.51</td>\n",
       "      <td>3581.17</td>\n",
       "    </tr>\n",
       "    <tr>\n",
       "      <th>3192</th>\n",
       "      <td>5824.02</td>\n",
       "      <td>1941.34</td>\n",
       "    </tr>\n",
       "    <tr>\n",
       "      <th>3830</th>\n",
       "      <td>9635.13</td>\n",
       "      <td>3211.71</td>\n",
       "    </tr>\n",
       "    <tr>\n",
       "      <th>5418</th>\n",
       "      <td>10983.48</td>\n",
       "      <td>3661.16</td>\n",
       "    </tr>\n",
       "    <tr>\n",
       "      <th>5979</th>\n",
       "      <td>8289.24</td>\n",
       "      <td>2763.08</td>\n",
       "    </tr>\n",
       "    <tr>\n",
       "      <th>6720</th>\n",
       "      <td>10119.09</td>\n",
       "      <td>3373.03</td>\n",
       "    </tr>\n",
       "    <tr>\n",
       "      <th>9223</th>\n",
       "      <td>5733.27</td>\n",
       "      <td>1911.09</td>\n",
       "    </tr>\n",
       "    <tr>\n",
       "      <th>9569</th>\n",
       "      <td>9025.71</td>\n",
       "      <td>3008.57</td>\n",
       "    </tr>\n",
       "    <tr>\n",
       "      <th>9717</th>\n",
       "      <td>11592.93</td>\n",
       "      <td>3864.31</td>\n",
       "    </tr>\n",
       "    <tr>\n",
       "      <th>10207</th>\n",
       "      <td>9347.16</td>\n",
       "      <td>3115.72</td>\n",
       "    </tr>\n",
       "    <tr>\n",
       "      <th>10568</th>\n",
       "      <td>8235.48</td>\n",
       "      <td>2745.16</td>\n",
       "    </tr>\n",
       "    <tr>\n",
       "      <th>11424</th>\n",
       "      <td>7853.82</td>\n",
       "      <td>2617.94</td>\n",
       "    </tr>\n",
       "    <tr>\n",
       "      <th>11592</th>\n",
       "      <td>8190.84</td>\n",
       "      <td>2730.28</td>\n",
       "    </tr>\n",
       "    <tr>\n",
       "      <th>11963</th>\n",
       "      <td>9022.29</td>\n",
       "      <td>3007.43</td>\n",
       "    </tr>\n",
       "    <tr>\n",
       "      <th>12130</th>\n",
       "      <td>9890.73</td>\n",
       "      <td>3296.91</td>\n",
       "    </tr>\n",
       "    <tr>\n",
       "      <th>12610</th>\n",
       "      <td>8556.21</td>\n",
       "      <td>2852.07</td>\n",
       "    </tr>\n",
       "    <tr>\n",
       "      <th>13252</th>\n",
       "      <td>8944.41</td>\n",
       "      <td>2981.47</td>\n",
       "    </tr>\n",
       "  </tbody>\n",
       "</table>\n",
       "</div>"
      ],
      "text/plain": [
       "       tot_surf_area  npe_area\n",
       "347          6937.38   2312.46\n",
       "608          8955.96   2985.32\n",
       "1121         8118.93   2706.31\n",
       "2166        10743.51   3581.17\n",
       "3192         5824.02   1941.34\n",
       "3830         9635.13   3211.71\n",
       "5418        10983.48   3661.16\n",
       "5979         8289.24   2763.08\n",
       "6720        10119.09   3373.03\n",
       "9223         5733.27   1911.09\n",
       "9569         9025.71   3008.57\n",
       "9717        11592.93   3864.31\n",
       "10207        9347.16   3115.72\n",
       "10568        8235.48   2745.16\n",
       "11424        7853.82   2617.94\n",
       "11592        8190.84   2730.28\n",
       "11963        9022.29   3007.43\n",
       "12130        9890.73   3296.91\n",
       "12610        8556.21   2852.07\n",
       "13252        8944.41   2981.47"
      ]
     },
     "execution_count": 31,
     "metadata": {},
     "output_type": "execute_result"
    }
   ],
   "source": [
    "prot[['tot_surf_area','npe_area']][prot.index.isin(ndx)]"
   ]
  },
  {
   "cell_type": "markdown",
   "metadata": {},
   "source": [
    "check for 0"
   ]
  },
  {
   "cell_type": "code",
   "execution_count": 32,
   "metadata": {},
   "outputs": [
    {
     "data": {
      "text/plain": [
       "tot_surf_area     0\n",
       "npe_area          0\n",
       "fa_enpr           0\n",
       "RMSD             90\n",
       "fa_enppr          0\n",
       "molmass_ea        0\n",
       "avg_dev           0\n",
       "euc_dist          0\n",
       "sdc               0\n",
       "dtype: int64"
      ]
     },
     "execution_count": 32,
     "metadata": {},
     "output_type": "execute_result"
    }
   ],
   "source": [
    "prot[prot==0].count()"
   ]
  },
  {
   "cell_type": "code",
   "execution_count": null,
   "metadata": {},
   "outputs": [],
   "source": [
    "#NOw imputtation of RMSD where zero count is 90\n",
    "#to impute it we drop that rows records"
   ]
  },
  {
   "cell_type": "code",
   "execution_count": 33,
   "metadata": {},
   "outputs": [
    {
     "data": {
      "text/html": [
       "<div>\n",
       "<style scoped>\n",
       "    .dataframe tbody tr th:only-of-type {\n",
       "        vertical-align: middle;\n",
       "    }\n",
       "\n",
       "    .dataframe tbody tr th {\n",
       "        vertical-align: top;\n",
       "    }\n",
       "\n",
       "    .dataframe thead th {\n",
       "        text-align: right;\n",
       "    }\n",
       "</style>\n",
       "<table border=\"1\" class=\"dataframe\">\n",
       "  <thead>\n",
       "    <tr style=\"text-align: right;\">\n",
       "      <th></th>\n",
       "      <th>RMSD</th>\n",
       "      <th>fa_enppr</th>\n",
       "    </tr>\n",
       "  </thead>\n",
       "  <tbody>\n",
       "    <tr>\n",
       "      <th>13</th>\n",
       "      <td>0.505</td>\n",
       "      <td>48.0677</td>\n",
       "    </tr>\n",
       "    <tr>\n",
       "      <th>42</th>\n",
       "      <td>0.545</td>\n",
       "      <td>47.8040</td>\n",
       "    </tr>\n",
       "    <tr>\n",
       "      <th>39</th>\n",
       "      <td>1.631</td>\n",
       "      <td>179.7940</td>\n",
       "    </tr>\n",
       "    <tr>\n",
       "      <th>10</th>\n",
       "      <td>1.657</td>\n",
       "      <td>71.9063</td>\n",
       "    </tr>\n",
       "    <tr>\n",
       "      <th>17</th>\n",
       "      <td>1.658</td>\n",
       "      <td>35.0303</td>\n",
       "    </tr>\n",
       "    <tr>\n",
       "      <th>20</th>\n",
       "      <td>1.754</td>\n",
       "      <td>88.5083</td>\n",
       "    </tr>\n",
       "    <tr>\n",
       "      <th>12</th>\n",
       "      <td>1.821</td>\n",
       "      <td>71.3453</td>\n",
       "    </tr>\n",
       "    <tr>\n",
       "      <th>35</th>\n",
       "      <td>1.834</td>\n",
       "      <td>223.8060</td>\n",
       "    </tr>\n",
       "    <tr>\n",
       "      <th>29</th>\n",
       "      <td>2.100</td>\n",
       "      <td>75.8983</td>\n",
       "    </tr>\n",
       "    <tr>\n",
       "      <th>43</th>\n",
       "      <td>2.262</td>\n",
       "      <td>123.7660</td>\n",
       "    </tr>\n",
       "    <tr>\n",
       "      <th>30</th>\n",
       "      <td>2.408</td>\n",
       "      <td>155.6570</td>\n",
       "    </tr>\n",
       "    <tr>\n",
       "      <th>23</th>\n",
       "      <td>2.510</td>\n",
       "      <td>53.1020</td>\n",
       "    </tr>\n",
       "    <tr>\n",
       "      <th>0</th>\n",
       "      <td>2.555</td>\n",
       "      <td>253.3780</td>\n",
       "    </tr>\n",
       "    <tr>\n",
       "      <th>5</th>\n",
       "      <td>2.622</td>\n",
       "      <td>174.7670</td>\n",
       "    </tr>\n",
       "    <tr>\n",
       "      <th>4</th>\n",
       "      <td>2.994</td>\n",
       "      <td>67.0155</td>\n",
       "    </tr>\n",
       "    <tr>\n",
       "      <th>49</th>\n",
       "      <td>3.121</td>\n",
       "      <td>107.7140</td>\n",
       "    </tr>\n",
       "    <tr>\n",
       "      <th>31</th>\n",
       "      <td>3.215</td>\n",
       "      <td>187.6500</td>\n",
       "    </tr>\n",
       "    <tr>\n",
       "      <th>14</th>\n",
       "      <td>3.284</td>\n",
       "      <td>68.0328</td>\n",
       "    </tr>\n",
       "    <tr>\n",
       "      <th>41</th>\n",
       "      <td>3.375</td>\n",
       "      <td>100.5570</td>\n",
       "    </tr>\n",
       "    <tr>\n",
       "      <th>27</th>\n",
       "      <td>3.503</td>\n",
       "      <td>114.6920</td>\n",
       "    </tr>\n",
       "    <tr>\n",
       "      <th>3</th>\n",
       "      <td>3.669</td>\n",
       "      <td>45.3260</td>\n",
       "    </tr>\n",
       "    <tr>\n",
       "      <th>2</th>\n",
       "      <td>3.713</td>\n",
       "      <td>254.7890</td>\n",
       "    </tr>\n",
       "    <tr>\n",
       "      <th>8</th>\n",
       "      <td>3.728</td>\n",
       "      <td>96.3458</td>\n",
       "    </tr>\n",
       "    <tr>\n",
       "      <th>24</th>\n",
       "      <td>3.954</td>\n",
       "      <td>106.9990</td>\n",
       "    </tr>\n",
       "    <tr>\n",
       "      <th>21</th>\n",
       "      <td>4.186</td>\n",
       "      <td>55.2014</td>\n",
       "    </tr>\n",
       "    <tr>\n",
       "      <th>33</th>\n",
       "      <td>4.640</td>\n",
       "      <td>83.6493</td>\n",
       "    </tr>\n",
       "    <tr>\n",
       "      <th>22</th>\n",
       "      <td>4.759</td>\n",
       "      <td>170.9580</td>\n",
       "    </tr>\n",
       "    <tr>\n",
       "      <th>16</th>\n",
       "      <td>4.920</td>\n",
       "      <td>62.2082</td>\n",
       "    </tr>\n",
       "    <tr>\n",
       "      <th>11</th>\n",
       "      <td>6.154</td>\n",
       "      <td>189.2220</td>\n",
       "    </tr>\n",
       "    <tr>\n",
       "      <th>25</th>\n",
       "      <td>7.454</td>\n",
       "      <td>58.8792</td>\n",
       "    </tr>\n",
       "    <tr>\n",
       "      <th>40</th>\n",
       "      <td>7.998</td>\n",
       "      <td>55.8300</td>\n",
       "    </tr>\n",
       "    <tr>\n",
       "      <th>37</th>\n",
       "      <td>8.004</td>\n",
       "      <td>76.4077</td>\n",
       "    </tr>\n",
       "    <tr>\n",
       "      <th>1</th>\n",
       "      <td>10.330</td>\n",
       "      <td>61.6351</td>\n",
       "    </tr>\n",
       "    <tr>\n",
       "      <th>47</th>\n",
       "      <td>11.011</td>\n",
       "      <td>40.5163</td>\n",
       "    </tr>\n",
       "    <tr>\n",
       "      <th>48</th>\n",
       "      <td>11.282</td>\n",
       "      <td>61.7840</td>\n",
       "    </tr>\n",
       "    <tr>\n",
       "      <th>46</th>\n",
       "      <td>11.932</td>\n",
       "      <td>83.5196</td>\n",
       "    </tr>\n",
       "    <tr>\n",
       "      <th>28</th>\n",
       "      <td>14.457</td>\n",
       "      <td>96.0322</td>\n",
       "    </tr>\n",
       "    <tr>\n",
       "      <th>36</th>\n",
       "      <td>15.353</td>\n",
       "      <td>42.2214</td>\n",
       "    </tr>\n",
       "    <tr>\n",
       "      <th>6</th>\n",
       "      <td>15.555</td>\n",
       "      <td>100.1870</td>\n",
       "    </tr>\n",
       "    <tr>\n",
       "      <th>18</th>\n",
       "      <td>15.728</td>\n",
       "      <td>95.2355</td>\n",
       "    </tr>\n",
       "    <tr>\n",
       "      <th>15</th>\n",
       "      <td>16.014</td>\n",
       "      <td>88.2436</td>\n",
       "    </tr>\n",
       "    <tr>\n",
       "      <th>26</th>\n",
       "      <td>16.076</td>\n",
       "      <td>63.0595</td>\n",
       "    </tr>\n",
       "    <tr>\n",
       "      <th>9</th>\n",
       "      <td>16.688</td>\n",
       "      <td>85.1275</td>\n",
       "    </tr>\n",
       "    <tr>\n",
       "      <th>38</th>\n",
       "      <td>16.724</td>\n",
       "      <td>112.1400</td>\n",
       "    </tr>\n",
       "    <tr>\n",
       "      <th>44</th>\n",
       "      <td>16.769</td>\n",
       "      <td>93.0368</td>\n",
       "    </tr>\n",
       "    <tr>\n",
       "      <th>34</th>\n",
       "      <td>17.610</td>\n",
       "      <td>115.6310</td>\n",
       "    </tr>\n",
       "    <tr>\n",
       "      <th>45</th>\n",
       "      <td>17.691</td>\n",
       "      <td>57.6053</td>\n",
       "    </tr>\n",
       "    <tr>\n",
       "      <th>32</th>\n",
       "      <td>19.064</td>\n",
       "      <td>108.1350</td>\n",
       "    </tr>\n",
       "    <tr>\n",
       "      <th>50</th>\n",
       "      <td>19.225</td>\n",
       "      <td>155.8040</td>\n",
       "    </tr>\n",
       "    <tr>\n",
       "      <th>19</th>\n",
       "      <td>19.425</td>\n",
       "      <td>60.3793</td>\n",
       "    </tr>\n",
       "  </tbody>\n",
       "</table>\n",
       "</div>"
      ],
      "text/plain": [
       "      RMSD  fa_enppr\n",
       "13   0.505   48.0677\n",
       "42   0.545   47.8040\n",
       "39   1.631  179.7940\n",
       "10   1.657   71.9063\n",
       "17   1.658   35.0303\n",
       "20   1.754   88.5083\n",
       "12   1.821   71.3453\n",
       "35   1.834  223.8060\n",
       "29   2.100   75.8983\n",
       "43   2.262  123.7660\n",
       "30   2.408  155.6570\n",
       "23   2.510   53.1020\n",
       "0    2.555  253.3780\n",
       "5    2.622  174.7670\n",
       "4    2.994   67.0155\n",
       "49   3.121  107.7140\n",
       "31   3.215  187.6500\n",
       "14   3.284   68.0328\n",
       "41   3.375  100.5570\n",
       "27   3.503  114.6920\n",
       "3    3.669   45.3260\n",
       "2    3.713  254.7890\n",
       "8    3.728   96.3458\n",
       "24   3.954  106.9990\n",
       "21   4.186   55.2014\n",
       "33   4.640   83.6493\n",
       "22   4.759  170.9580\n",
       "16   4.920   62.2082\n",
       "11   6.154  189.2220\n",
       "25   7.454   58.8792\n",
       "40   7.998   55.8300\n",
       "37   8.004   76.4077\n",
       "1   10.330   61.6351\n",
       "47  11.011   40.5163\n",
       "48  11.282   61.7840\n",
       "46  11.932   83.5196\n",
       "28  14.457   96.0322\n",
       "36  15.353   42.2214\n",
       "6   15.555  100.1870\n",
       "18  15.728   95.2355\n",
       "15  16.014   88.2436\n",
       "26  16.076   63.0595\n",
       "9   16.688   85.1275\n",
       "38  16.724  112.1400\n",
       "44  16.769   93.0368\n",
       "34  17.610  115.6310\n",
       "45  17.691   57.6053\n",
       "32  19.064  108.1350\n",
       "50  19.225  155.8040\n",
       "19  19.425   60.3793"
      ]
     },
     "execution_count": 33,
     "metadata": {},
     "output_type": "execute_result"
    }
   ],
   "source": [
    "prot[['RMSD','fa_enppr']][prot.RMSD > 0].head(50).sort_values('RMSD')"
   ]
  },
  {
   "cell_type": "markdown",
   "metadata": {},
   "source": [
    "since the Y-var has 0, drop these records"
   ]
  },
  {
   "cell_type": "code",
   "execution_count": 34,
   "metadata": {},
   "outputs": [
    {
     "data": {
      "text/plain": [
       "90"
      ]
     },
     "execution_count": 34,
     "metadata": {},
     "output_type": "execute_result"
    }
   ],
   "source": [
    "ndx = prot[prot.RMSD==0].index\n",
    "len(ndx)"
   ]
  },
  {
   "cell_type": "code",
   "execution_count": 35,
   "metadata": {},
   "outputs": [
    {
     "name": "stdout",
     "output_type": "stream",
     "text": [
      "before dropping rows, shape =  (15220, 9)\n",
      "after dropping rows, shape =  (15130, 9)\n"
     ]
    }
   ],
   "source": [
    "print(\"before dropping rows, shape = \", prot.shape)\n",
    "prot = prot.drop(ndx,axis=0)\n",
    "print(\"after dropping rows, shape = \", prot.shape)"
   ]
  },
  {
   "cell_type": "code",
   "execution_count": 36,
   "metadata": {},
   "outputs": [
    {
     "data": {
      "text/plain": [
       "tot_surf_area    0\n",
       "npe_area         0\n",
       "fa_enpr          0\n",
       "RMSD             0\n",
       "fa_enppr         0\n",
       "molmass_ea       0\n",
       "avg_dev          0\n",
       "euc_dist         0\n",
       "sdc              0\n",
       "dtype: int64"
      ]
     },
     "execution_count": 36,
     "metadata": {},
     "output_type": "execute_result"
    }
   ],
   "source": [
    "prot[prot==0].count()"
   ]
  },
  {
   "cell_type": "markdown",
   "metadata": {},
   "source": [
    "check the distibution and outliers of features"
   ]
  },
  {
   "cell_type": "code",
   "execution_count": 38,
   "metadata": {},
   "outputs": [],
   "source": [
    "cols = list(prot.columns)\n",
    "cols.remove('RMSD')"
   ]
  },
  {
   "cell_type": "code",
   "execution_count": 39,
   "metadata": {},
   "outputs": [
    {
     "data": {
      "text/plain": [
       "8"
      ]
     },
     "execution_count": 39,
     "metadata": {},
     "output_type": "execute_result"
    }
   ],
   "source": [
    "len(cols)"
   ]
  },
  {
   "cell_type": "markdown",
   "metadata": {},
   "source": [
    "outliers"
   ]
  },
  {
   "cell_type": "code",
   "execution_count": null,
   "metadata": {},
   "outputs": [],
   "source": [
    "#OUTLEIRS Imputaion "
   ]
  },
  {
   "cell_type": "code",
   "execution_count": 40,
   "metadata": {},
   "outputs": [
    {
     "data": {
      "text/plain": [
       "<AxesSubplot:>"
      ]
     },
     "execution_count": 40,
     "metadata": {},
     "output_type": "execute_result"
    },
    {
     "data": {
      "image/png": "[encoded data removed]",
      "text/plain": [
       "<Figure size 432x288 with 1 Axes>"
      ]
     },
     "metadata": {
      "needs_background": "light"
     },
     "output_type": "display_data"
    }
   ],
   "source": [
    "prot.boxplot('tot_surf_area',vert=False)"
   ]
  },
  {
   "cell_type": "markdown",
   "metadata": {},
   "source": [
    "#Visualization \n",
    "#1)Boxplot\n",
    "#2)Distplot (density plot to get distribution of data)"
   ]
  },
  {
   "cell_type": "code",
   "execution_count": 41,
   "metadata": {},
   "outputs": [],
   "source": [
    "nrow=4; ncol=2; npos=1"
   ]
  },
  {
   "cell_type": "markdown",
   "metadata": {},
   "source": [
    "whis=<n> indicates the IQR formula. can override the default 1.5 to any value to suppress the outliers from appearing on the boxplot"
   ]
  },
  {
   "cell_type": "code",
   "execution_count": 42,
   "metadata": {},
   "outputs": [
    {
     "data": {
      "image/png": "[encoded data removed]",
      "text/plain": [
       "<Figure size 432x288 with 8 Axes>"
      ]
     },
     "metadata": {
      "needs_background": "light"
     },
     "output_type": "display_data"
    }
   ],
   "source": [
    "fig = plt.figure()\n",
    "for c in cols:\n",
    "    fig.add_subplot(nrow,ncol,npos)\n",
    "    prot.boxplot(c,vert=False,whis=5)\n",
    "    npos+=1"
   ]
  },
  {
   "cell_type": "markdown",
   "metadata": {},
   "source": [
    "check distribution"
   ]
  },
  {
   "cell_type": "code",
   "execution_count": 43,
   "metadata": {},
   "outputs": [
    {
     "name": "stderr",
     "output_type": "stream",
     "text": [
      "E:\\anaconda\\lib\\site-packages\\seaborn\\distributions.py:2551: FutureWarning: `distplot` is a deprecated function and will be removed in a future version. Please adapt your code to use either `displot` (a figure-level function with similar flexibility) or `histplot` (an axes-level function for histograms).\n",
      "  warnings.warn(msg, FutureWarning)\n",
      "E:\\anaconda\\lib\\site-packages\\seaborn\\distributions.py:2551: FutureWarning: `distplot` is a deprecated function and will be removed in a future version. Please adapt your code to use either `displot` (a figure-level function with similar flexibility) or `histplot` (an axes-level function for histograms).\n",
      "  warnings.warn(msg, FutureWarning)\n",
      "E:\\anaconda\\lib\\site-packages\\seaborn\\distributions.py:2551: FutureWarning: `distplot` is a deprecated function and will be removed in a future version. Please adapt your code to use either `displot` (a figure-level function with similar flexibility) or `histplot` (an axes-level function for histograms).\n",
      "  warnings.warn(msg, FutureWarning)\n",
      "E:\\anaconda\\lib\\site-packages\\seaborn\\distributions.py:2551: FutureWarning: `distplot` is a deprecated function and will be removed in a future version. Please adapt your code to use either `displot` (a figure-level function with similar flexibility) or `histplot` (an axes-level function for histograms).\n",
      "  warnings.warn(msg, FutureWarning)\n",
      "E:\\anaconda\\lib\\site-packages\\seaborn\\distributions.py:2551: FutureWarning: `distplot` is a deprecated function and will be removed in a future version. Please adapt your code to use either `displot` (a figure-level function with similar flexibility) or `histplot` (an axes-level function for histograms).\n",
      "  warnings.warn(msg, FutureWarning)\n",
      "E:\\anaconda\\lib\\site-packages\\seaborn\\distributions.py:2551: FutureWarning: `distplot` is a deprecated function and will be removed in a future version. Please adapt your code to use either `displot` (a figure-level function with similar flexibility) or `histplot` (an axes-level function for histograms).\n",
      "  warnings.warn(msg, FutureWarning)\n",
      "E:\\anaconda\\lib\\site-packages\\seaborn\\distributions.py:2551: FutureWarning: `distplot` is a deprecated function and will be removed in a future version. Please adapt your code to use either `displot` (a figure-level function with similar flexibility) or `histplot` (an axes-level function for histograms).\n",
      "  warnings.warn(msg, FutureWarning)\n",
      "E:\\anaconda\\lib\\site-packages\\seaborn\\distributions.py:2551: FutureWarning: `distplot` is a deprecated function and will be removed in a future version. Please adapt your code to use either `displot` (a figure-level function with similar flexibility) or `histplot` (an axes-level function for histograms).\n",
      "  warnings.warn(msg, FutureWarning)\n"
     ]
    },
    {
     "data": {
      "image/png": "[encoded data removed]",
      "text/plain": [
       "<Figure size 432x288 with 8 Axes>"
      ]
     },
     "metadata": {
      "needs_background": "light"
     },
     "output_type": "display_data"
    }
   ],
   "source": [
    "nrow=4; ncol=2; npos=1\n",
    "fig=plt.figure()\n",
    "for c in cols:\n",
    "    fig.add_subplot(nrow,ncol,npos)\n",
    "    sns.distplot(prot[c])\n",
    "    npos+=1"
   ]
  },
  {
   "cell_type": "markdown",
   "metadata": {},
   "source": [
    "#Statistics Test \n",
    "#1)to check Distribution we used Agistino-Pearsons test for noramality\n",
    "#2)bruesch-pagan test against heteroscedasticty"
   ]
  },
  {
   "cell_type": "markdown",
   "metadata": {},
   "source": [
    "Agistino-Pearson test for normality<br>\n",
    "H0: normal distribution<br>\n",
    "H1: not a normal distribution"
   ]
  },
  {
   "cell_type": "code",
   "execution_count": 45,
   "metadata": {},
   "outputs": [],
   "source": [
    "from scipy.stats import normaltest"
   ]
  },
  {
   "cell_type": "markdown",
   "metadata": {},
   "source": [
    "create a k-v pair to store column names and its corresponding distribution type (Normal/Not Normal)"
   ]
  },
  {
   "cell_type": "code",
   "execution_count": 46,
   "metadata": {},
   "outputs": [],
   "source": [
    "aptest = {}"
   ]
  },
  {
   "cell_type": "code",
   "execution_count": 47,
   "metadata": {},
   "outputs": [],
   "source": [
    "for c in cols:\n",
    "    tstat,pval = normaltest(prot[c])\n",
    "    if pval < 0.05:\n",
    "        aptest[c] = \"Not Normal\"\n",
    "    else:\n",
    "        aptest[c] = \"Normal\""
   ]
  },
  {
   "cell_type": "code",
   "execution_count": 48,
   "metadata": {},
   "outputs": [
    {
     "name": "stdout",
     "output_type": "stream",
     "text": [
      "{'tot_surf_area': 'Not Normal', 'npe_area': 'Not Normal', 'fa_enpr': 'Not Normal', 'fa_enppr': 'Not Normal', 'molmass_ea': 'Not Normal', 'avg_dev': 'Not Normal', 'euc_dist': 'Not Normal', 'sdc': 'Not Normal'}\n"
     ]
    }
   ],
   "source": [
    "print(aptest)"
   ]
  },
  {
   "cell_type": "code",
   "execution_count": null,
   "metadata": {},
   "outputs": [],
   "source": [
    "#columns are not mormal beacsue we are not applied any scaling techniqe in basic model"
   ]
  },
  {
   "cell_type": "markdown",
   "metadata": {},
   "source": [
    "correlation matrix - take only the lower triangle. <br>\n",
    "then plot the heatmap to check collinearity"
   ]
  },
  {
   "cell_type": "code",
   "execution_count": 49,
   "metadata": {},
   "outputs": [
    {
     "data": {
      "text/plain": [
       "Text(0.5, 1.0, 'Correlation Matrix')"
      ]
     },
     "execution_count": 49,
     "metadata": {},
     "output_type": "execute_result"
    },
    {
     "data": {
      "image/png": "[encoded data removed]",
      "text/plain": [
       "<Figure size 432x288 with 2 Axes>"
      ]
     },
     "metadata": {
      "needs_background": "light"
     },
     "output_type": "display_data"
    }
   ],
   "source": [
    "cor = prot[cols].corr()\n",
    "cor = np.tril(cor)\n",
    "sns.heatmap(cor,xticklabels=cols,yticklabels=cols,\n",
    "            vmin=-1,vmax=1,annot=True,square=False)\n",
    "plt.title(\"Correlation Matrix\")"
   ]
  },
  {
   "cell_type": "markdown",
   "metadata": {},
   "source": [
    "based on the matrix, there are some correlated variables that needs to be removed"
   ]
  },
  {
   "cell_type": "markdown",
   "metadata": {},
   "source": [
    "for linear regression, data types have to be numeric"
   ]
  },
  {
   "cell_type": "code",
   "execution_count": 50,
   "metadata": {},
   "outputs": [
    {
     "data": {
      "text/plain": [
       "tot_surf_area    float64\n",
       "npe_area         float64\n",
       "fa_enpr          float64\n",
       "RMSD             float64\n",
       "fa_enppr         float64\n",
       "molmass_ea       float64\n",
       "avg_dev          float64\n",
       "euc_dist         float64\n",
       "sdc              float64\n",
       "dtype: object"
      ]
     },
     "execution_count": 50,
     "metadata": {},
     "output_type": "execute_result"
    }
   ],
   "source": [
    "prot.dtypes"
   ]
  },
  {
   "cell_type": "markdown",
   "metadata": {},
   "source": [
    "split the data into train/test<br>\n",
    "trainx/trainy, testx/testy"
   ]
  },
  {
   "cell_type": "markdown",
   "metadata": {},
   "source": [
    "#spliting and Model Building"
   ]
  },
  {
   "cell_type": "code",
   "execution_count": 51,
   "metadata": {},
   "outputs": [],
   "source": [
    "trainx,testx,trainy,testy = train_test_split(prot.drop('RMSD',axis=1),\n",
    "                                             prot['RMSD'],\n",
    "                                             test_size=0.3 )"
   ]
  },
  {
   "cell_type": "code",
   "execution_count": 52,
   "metadata": {},
   "outputs": [
    {
     "name": "stdout",
     "output_type": "stream",
     "text": [
      "trainx=(10591, 8),trainy=(10591,),testx=(4539, 8),testy=(4539,)\n"
     ]
    }
   ],
   "source": [
    "print(\"trainx={},trainy={},testx={},testy={}\".format(trainx.shape,trainy.shape,testx.shape,testy.shape))"
   ]
  },
  {
   "cell_type": "markdown",
   "metadata": {},
   "source": [
    "\n",
    "<br>\n",
    "train,test = train_test_split(prot,test_size=0.3)<br>\n",
    "train.shape<br>\n",
    "test.shape<br>\n",
    "trainx = train.drop('RMSD',axis=1)<br>\n",
    "trainy = train['RMSD']<br>\n",
    "testx = test.drop('RMSD',axis=1)<br>\n",
    "testy = test['RMSD']<br>\n"
   ]
  },
  {
   "cell_type": "markdown",
   "metadata": {},
   "source": [
    "Add a constant term to the trainx and testx<br>\n",
    "this will ensure that the model summary has the 'intercept' term displayed"
   ]
  },
  {
   "cell_type": "code",
   "execution_count": 54,
   "metadata": {},
   "outputs": [],
   "source": [
    "trainx = sm.add_constant(trainx)\n",
    "testx = sm.add_constant(testx)"
   ]
  },
  {
   "cell_type": "markdown",
   "metadata": {},
   "source": [
    "Linear Regression model building<br>\n",
    "OLS -> Ordinary Least Square method"
   ]
  },
  {
   "cell_type": "code",
   "execution_count": 55,
   "metadata": {},
   "outputs": [],
   "source": [
    "m1=sm.OLS(trainy,trainx).fit()"
   ]
  },
  {
   "cell_type": "markdown",
   "metadata": {},
   "source": [
    "summarise the model"
   ]
  },
  {
   "cell_type": "code",
   "execution_count": 56,
   "metadata": {},
   "outputs": [
    {
     "data": {
      "text/html": [
       "<table class=\"simpletable\">\n",
       "<caption>OLS Regression Results</caption>\n",
       "<tr>\n",
       "  <th>Dep. Variable:</th>          <td>RMSD</td>       <th>  R-squared:         </th> <td>   0.272</td> \n",
       "</tr>\n",
       "<tr>\n",
       "  <th>Model:</th>                   <td>OLS</td>       <th>  Adj. R-squared:    </th> <td>   0.272</td> \n",
       "</tr>\n",
       "<tr>\n",
       "  <th>Method:</th>             <td>Least Squares</td>  <th>  F-statistic:       </th> <td>   495.4</td> \n",
       "</tr>\n",
       "<tr>\n",
       "  <th>Date:</th>             <td>Thu, 13 May 2021</td> <th>  Prob (F-statistic):</th>  <td>  0.00</td>  \n",
       "</tr>\n",
       "<tr>\n",
       "  <th>Time:</th>                 <td>00:32:20</td>     <th>  Log-Likelihood:    </th> <td> -32533.</td> \n",
       "</tr>\n",
       "<tr>\n",
       "  <th>No. Observations:</th>      <td> 10591</td>      <th>  AIC:               </th> <td>6.508e+04</td>\n",
       "</tr>\n",
       "<tr>\n",
       "  <th>Df Residuals:</th>          <td> 10582</td>      <th>  BIC:               </th> <td>6.515e+04</td>\n",
       "</tr>\n",
       "<tr>\n",
       "  <th>Df Model:</th>              <td>     8</td>      <th>                     </th>     <td> </td>    \n",
       "</tr>\n",
       "<tr>\n",
       "  <th>Covariance Type:</th>      <td>nonrobust</td>    <th>                     </th>     <td> </td>    \n",
       "</tr>\n",
       "</table>\n",
       "<table class=\"simpletable\">\n",
       "<tr>\n",
       "        <td></td>           <th>coef</th>     <th>std err</th>      <th>t</th>      <th>P>|t|</th>  <th>[0.025</th>    <th>0.975]</th>  \n",
       "</tr>\n",
       "<tr>\n",
       "  <th>const</th>         <td>    7.2983</td> <td>    1.256</td> <td>    5.809</td> <td> 0.000</td> <td>    4.836</td> <td>    9.761</td>\n",
       "</tr>\n",
       "<tr>\n",
       "  <th>tot_surf_area</th> <td>    0.0019</td> <td>    0.000</td> <td>    7.918</td> <td> 0.000</td> <td>    0.001</td> <td>    0.002</td>\n",
       "</tr>\n",
       "<tr>\n",
       "  <th>npe_area</th>      <td>    0.0015</td> <td>    0.000</td> <td>    6.454</td> <td> 0.000</td> <td>    0.001</td> <td>    0.002</td>\n",
       "</tr>\n",
       "<tr>\n",
       "  <th>fa_enpr</th>       <td>   18.0231</td> <td>    2.167</td> <td>    8.319</td> <td> 0.000</td> <td>   13.776</td> <td>   22.270</td>\n",
       "</tr>\n",
       "<tr>\n",
       "  <th>fa_enppr</th>      <td>   -0.1020</td> <td>    0.003</td> <td>  -29.553</td> <td> 0.000</td> <td>   -0.109</td> <td>   -0.095</td>\n",
       "</tr>\n",
       "<tr>\n",
       "  <th>molmass_ea</th>    <td>-5.903e-06</td> <td> 1.48e-06</td> <td>   -3.997</td> <td> 0.000</td> <td> -8.8e-06</td> <td>-3.01e-06</td>\n",
       "</tr>\n",
       "<tr>\n",
       "  <th>avg_dev</th>       <td>   -0.0266</td> <td>    0.004</td> <td>   -7.318</td> <td> 0.000</td> <td>   -0.034</td> <td>   -0.020</td>\n",
       "</tr>\n",
       "<tr>\n",
       "  <th>euc_dist</th>      <td>   -0.0002</td> <td> 4.28e-05</td> <td>   -5.393</td> <td> 0.000</td> <td>   -0.000</td> <td>   -0.000</td>\n",
       "</tr>\n",
       "<tr>\n",
       "  <th>sdc</th>           <td>   -0.1354</td> <td>    0.022</td> <td>   -6.276</td> <td> 0.000</td> <td>   -0.178</td> <td>   -0.093</td>\n",
       "</tr>\n",
       "</table>\n",
       "<table class=\"simpletable\">\n",
       "<tr>\n",
       "  <th>Omnibus:</th>       <td>424.685</td> <th>  Durbin-Watson:     </th> <td>   1.974</td>\n",
       "</tr>\n",
       "<tr>\n",
       "  <th>Prob(Omnibus):</th> <td> 0.000</td>  <th>  Jarque-Bera (JB):  </th> <td> 420.210</td>\n",
       "</tr>\n",
       "<tr>\n",
       "  <th>Skew:</th>          <td> 0.449</td>  <th>  Prob(JB):          </th> <td>5.66e-92</td>\n",
       "</tr>\n",
       "<tr>\n",
       "  <th>Kurtosis:</th>      <td> 2.618</td>  <th>  Cond. No.          </th> <td>6.76e+07</td>\n",
       "</tr>\n",
       "</table><br/><br/>Notes:<br/>[1] Standard Errors assume that the covariance matrix of the errors is correctly specified.<br/>[2] The condition number is large, 6.76e+07. This might indicate that there are<br/>strong multicollinearity or other numerical problems."
      ],
      "text/plain": [
       "<class 'statsmodels.iolib.summary.Summary'>\n",
       "\"\"\"\n",
       "                            OLS Regression Results                            \n",
       "==============================================================================\n",
       "Dep. Variable:                   RMSD   R-squared:                       0.272\n",
       "Model:                            OLS   Adj. R-squared:                  0.272\n",
       "Method:                 Least Squares   F-statistic:                     495.4\n",
       "Date:                Thu, 13 May 2021   Prob (F-statistic):               0.00\n",
       "Time:                        00:32:20   Log-Likelihood:                -32533.\n",
       "No. Observations:               10591   AIC:                         6.508e+04\n",
       "Df Residuals:                   10582   BIC:                         6.515e+04\n",
       "Df Model:                           8                                         \n",
       "Covariance Type:            nonrobust                                         \n",
       "=================================================================================\n",
       "                    coef    std err          t      P>|t|      [0.025      0.975]\n",
       "---------------------------------------------------------------------------------\n",
       "const             7.2983      1.256      5.809      0.000       4.836       9.761\n",
       "tot_surf_area     0.0019      0.000      7.918      0.000       0.001       0.002\n",
       "npe_area          0.0015      0.000      6.454      0.000       0.001       0.002\n",
       "fa_enpr          18.0231      2.167      8.319      0.000      13.776      22.270\n",
       "fa_enppr         -0.1020      0.003    -29.553      0.000      -0.109      -0.095\n",
       "molmass_ea    -5.903e-06   1.48e-06     -3.997      0.000    -8.8e-06   -3.01e-06\n",
       "avg_dev          -0.0266      0.004     -7.318      0.000      -0.034      -0.020\n",
       "euc_dist         -0.0002   4.28e-05     -5.393      0.000      -0.000      -0.000\n",
       "sdc              -0.1354      0.022     -6.276      0.000      -0.178      -0.093\n",
       "==============================================================================\n",
       "Omnibus:                      424.685   Durbin-Watson:                   1.974\n",
       "Prob(Omnibus):                  0.000   Jarque-Bera (JB):              420.210\n",
       "Skew:                           0.449   Prob(JB):                     5.66e-92\n",
       "Kurtosis:                       2.618   Cond. No.                     6.76e+07\n",
       "==============================================================================\n",
       "\n",
       "Notes:\n",
       "[1] Standard Errors assume that the covariance matrix of the errors is correctly specified.\n",
       "[2] The condition number is large, 6.76e+07. This might indicate that there are\n",
       "strong multicollinearity or other numerical problems.\n",
       "\"\"\""
      ]
     },
     "execution_count": 56,
     "metadata": {},
     "output_type": "execute_result"
    }
   ],
   "source": [
    "m1.summary()"
   ]
  },
  {
   "cell_type": "markdown",
   "metadata": {},
   "source": [
    "#Validation of Linear regression ,there are assumption "
   ]
  },
  {
   "cell_type": "markdown",
   "metadata": {},
   "source": [
    "validation of LR assumptions<br>\n",
    "i) mean of reisduals = 0"
   ]
  },
  {
   "cell_type": "code",
   "execution_count": 57,
   "metadata": {},
   "outputs": [
    {
     "name": "stdout",
     "output_type": "stream",
     "text": [
      "-4.240142474796863e-13\n"
     ]
    }
   ],
   "source": [
    "print(m1.resid.mean())"
   ]
  },
  {
   "cell_type": "markdown",
   "metadata": {},
   "source": [
    "\n",
    "<br>\n",
    "m1.rsquared<br>\n",
    "m1.rsquared_adj<br>\n",
    "dir(m1)<br>\n"
   ]
  },
  {
   "cell_type": "markdown",
   "metadata": {},
   "source": [
    "ii) residuals have constant variance (homoscedasticity)<br>\n",
    "plot the graph<br>\n",
    "lowess->locally weighted scatterplot smoothing"
   ]
  },
  {
   "cell_type": "code",
   "execution_count": 58,
   "metadata": {},
   "outputs": [
    {
     "name": "stderr",
     "output_type": "stream",
     "text": [
      "E:\\anaconda\\lib\\site-packages\\seaborn\\_decorators.py:36: FutureWarning: Pass the following variables as keyword args: x, y. From version 0.12, the only valid positional argument will be `data`, and passing other arguments without an explicit keyword will result in an error or misinterpretation.\n",
      "  warnings.warn(\n"
     ]
    },
    {
     "data": {
      "text/plain": [
       "<AxesSubplot:>"
      ]
     },
     "execution_count": 58,
     "metadata": {},
     "output_type": "execute_result"
    },
    {
     "data": {
      "image/png": "[encoded data removed]",
      "text/plain": [
       "<Figure size 432x288 with 1 Axes>"
      ]
     },
     "metadata": {},
     "output_type": "display_data"
    }
   ],
   "source": [
    "yhat = m1.predict(trainx)\n",
    "sns.set(style=\"whitegrid\")\n",
    "sns.residplot(m1.resid,yhat,lowess=True,color='g')"
   ]
  },
  {
   "cell_type": "markdown",
   "metadata": {},
   "source": [
    "based on the graph, the model is heteroscedastic"
   ]
  },
  {
   "cell_type": "markdown",
   "metadata": {},
   "source": [
    "bruesch-pagan test against heteroscedasticty"
   ]
  },
  {
   "cell_type": "code",
   "execution_count": 59,
   "metadata": {},
   "outputs": [],
   "source": [
    "import statsmodels.stats.api as sms"
   ]
  },
  {
   "cell_type": "markdown",
   "metadata": {},
   "source": [
    "H0: homoscedasticity<br>\n",
    "H1: heteroscedasticity"
   ]
  },
  {
   "cell_type": "markdown",
   "metadata": {},
   "source": [
    "return value of breusch pagan test<br>\n",
    "lagrange_multiplier, pvalue, fscore, fp-value"
   ]
  },
  {
   "cell_type": "markdown",
   "metadata": {},
   "source": [
    "parameters: [residuals, x-array]"
   ]
  },
  {
   "cell_type": "code",
   "execution_count": 60,
   "metadata": {},
   "outputs": [],
   "source": [
    "pval = sms.het_breuschpagan(m1.resid,m1.model.exog)[1]"
   ]
  },
  {
   "cell_type": "code",
   "execution_count": 61,
   "metadata": {},
   "outputs": [
    {
     "name": "stdout",
     "output_type": "stream",
     "text": [
      "Reject H0. Model is Heteroscedastic\n"
     ]
    }
   ],
   "source": [
    "if pval < 0.05:\n",
    "    print(\"Reject H0. Model is Heteroscedastic\")\n",
    "else:\n",
    "    print(\"FTR H0. Model is Homoscedastic\")\n",
    "    "
   ]
  },
  {
   "cell_type": "markdown",
   "metadata": {},
   "source": [
    "iii) Reasiduals have a normal distribution"
   ]
  },
  {
   "cell_type": "code",
   "execution_count": 62,
   "metadata": {},
   "outputs": [
    {
     "data": {
      "image/png": "[encoded data removed]",
      "text/plain": [
       "<Figure size 432x288 with 1 Axes>"
      ]
     },
     "metadata": {},
     "output_type": "display_data"
    },
    {
     "data": {
      "text/plain": [
       "(15130, 9)"
      ]
     },
     "execution_count": 62,
     "metadata": {},
     "output_type": "execute_result"
    }
   ],
   "source": [
    "stats.probplot(m1.resid, dist='norm', plot=pylab)\n",
    "pylab.show()\n",
    "    \n",
    "# iv) rows > columns\n",
    "prot.shape    "
   ]
  },
  {
   "cell_type": "markdown",
   "metadata": {},
   "source": [
    "k-Fold Cross-Validation    "
   ]
  },
  {
   "cell_type": "markdown",
   "metadata": {},
   "source": [
    "#Cross validation to check the Result difference\n",
    "#used K fold Cross validation"
   ]
  },
  {
   "cell_type": "code",
   "execution_count": 67,
   "metadata": {},
   "outputs": [],
   "source": [
    "folds=5    \n",
    "cv_mse = []"
   ]
  },
  {
   "cell_type": "code",
   "execution_count": 69,
   "metadata": {},
   "outputs": [],
   "source": [
    "X=trainx.values\n",
    "Y=trainy.values"
   ]
  },
  {
   "cell_type": "code",
   "execution_count": 70,
   "metadata": {},
   "outputs": [],
   "source": [
    "kf= KFold(folds)\n",
    "# kf.get_n_splits(X)"
   ]
  },
  {
   "cell_type": "code",
   "execution_count": 71,
   "metadata": {},
   "outputs": [
    {
     "data": {
      "text/plain": [
       "[27.623, 27.769, 26.8, 26.142, 28.355]"
      ]
     },
     "execution_count": 71,
     "metadata": {},
     "output_type": "execute_result"
    }
   ],
   "source": [
    "for train_index,test_index in kf.split(X):\n",
    "    cv_trainx,cv_trainy = X[train_index],Y[train_index]\n",
    "    cv_testx, cv_testy =  X[test_index],Y[test_index]\n",
    "    \n",
    "    # build model on cv_train and predict on cv_test\n",
    "    m = sm.OLS(cv_trainy,cv_trainx).fit()\n",
    "    p = m.predict(cv_testx)\n",
    "    \n",
    "    # store MSE in the list for each model\n",
    "    cv_mse.append(np.round(mean_squared_error(cv_testy,p),3))\n",
    "    \n",
    "cv_mse"
   ]
  },
  {
   "cell_type": "markdown",
   "metadata": {},
   "source": [
    "mean MSE of k-Fold CV"
   ]
  },
  {
   "cell_type": "code",
   "execution_count": 72,
   "metadata": {},
   "outputs": [
    {
     "data": {
      "text/plain": [
       "27.337799999999998"
      ]
     },
     "execution_count": 72,
     "metadata": {},
     "output_type": "execute_result"
    }
   ],
   "source": [
    "np.mean(cv_mse) "
   ]
  },
  {
   "cell_type": "markdown",
   "metadata": {},
   "source": [
    "prediction on the test data"
   ]
  },
  {
   "cell_type": "code",
   "execution_count": 75,
   "metadata": {},
   "outputs": [],
   "source": [
    "p1 = m1.predict(testx)"
   ]
  },
  {
   "cell_type": "markdown",
   "metadata": {},
   "source": [
    "MSE of model 1"
   ]
  },
  {
   "cell_type": "code",
   "execution_count": 76,
   "metadata": {},
   "outputs": [],
   "source": [
    "mse1 = round(mean_squared_error(testy,p1),3)"
   ]
  },
  {
   "cell_type": "markdown",
   "metadata": {},
   "source": [
    "compare the train and test errors"
   ]
  },
  {
   "cell_type": "code",
   "execution_count": 77,
   "metadata": {},
   "outputs": [
    {
     "name": "stdout",
     "output_type": "stream",
     "text": [
      "Training MSE = 27.337799999999998, Testing MSE = 27.355\n"
     ]
    }
   ],
   "source": [
    "print(\"Training MSE = {}, Testing MSE = {}\".format(np.mean(cv_mse),mse1))"
   ]
  },
  {
   "cell_type": "markdown",
   "metadata": {},
   "source": [
    "store the actual and predicted data for comparison"
   ]
  },
  {
   "cell_type": "code",
   "execution_count": 78,
   "metadata": {},
   "outputs": [
    {
     "data": {
      "text/html": [
       "<div>\n",
       "<style scoped>\n",
       "    .dataframe tbody tr th:only-of-type {\n",
       "        vertical-align: middle;\n",
       "    }\n",
       "\n",
       "    .dataframe tbody tr th {\n",
       "        vertical-align: top;\n",
       "    }\n",
       "\n",
       "    .dataframe thead th {\n",
       "        text-align: right;\n",
       "    }\n",
       "</style>\n",
       "<table border=\"1\" class=\"dataframe\">\n",
       "  <thead>\n",
       "    <tr style=\"text-align: right;\">\n",
       "      <th></th>\n",
       "      <th>actual</th>\n",
       "      <th>predicted</th>\n",
       "    </tr>\n",
       "  </thead>\n",
       "  <tbody>\n",
       "    <tr>\n",
       "      <th>9146</th>\n",
       "      <td>19.135</td>\n",
       "      <td>12.068</td>\n",
       "    </tr>\n",
       "    <tr>\n",
       "      <th>3171</th>\n",
       "      <td>1.732</td>\n",
       "      <td>7.812</td>\n",
       "    </tr>\n",
       "    <tr>\n",
       "      <th>6058</th>\n",
       "      <td>2.601</td>\n",
       "      <td>5.316</td>\n",
       "    </tr>\n",
       "    <tr>\n",
       "      <th>6358</th>\n",
       "      <td>2.047</td>\n",
       "      <td>7.919</td>\n",
       "    </tr>\n",
       "    <tr>\n",
       "      <th>1726</th>\n",
       "      <td>13.800</td>\n",
       "      <td>11.393</td>\n",
       "    </tr>\n",
       "    <tr>\n",
       "      <th>3409</th>\n",
       "      <td>1.296</td>\n",
       "      <td>4.097</td>\n",
       "    </tr>\n",
       "    <tr>\n",
       "      <th>7240</th>\n",
       "      <td>0.501</td>\n",
       "      <td>4.572</td>\n",
       "    </tr>\n",
       "    <tr>\n",
       "      <th>4805</th>\n",
       "      <td>2.855</td>\n",
       "      <td>9.591</td>\n",
       "    </tr>\n",
       "    <tr>\n",
       "      <th>14926</th>\n",
       "      <td>2.093</td>\n",
       "      <td>4.715</td>\n",
       "    </tr>\n",
       "    <tr>\n",
       "      <th>3480</th>\n",
       "      <td>13.582</td>\n",
       "      <td>11.951</td>\n",
       "    </tr>\n",
       "    <tr>\n",
       "      <th>11037</th>\n",
       "      <td>9.283</td>\n",
       "      <td>9.062</td>\n",
       "    </tr>\n",
       "    <tr>\n",
       "      <th>14942</th>\n",
       "      <td>14.377</td>\n",
       "      <td>11.773</td>\n",
       "    </tr>\n",
       "    <tr>\n",
       "      <th>4379</th>\n",
       "      <td>15.172</td>\n",
       "      <td>11.859</td>\n",
       "    </tr>\n",
       "    <tr>\n",
       "      <th>5208</th>\n",
       "      <td>9.843</td>\n",
       "      <td>5.786</td>\n",
       "    </tr>\n",
       "    <tr>\n",
       "      <th>4197</th>\n",
       "      <td>5.372</td>\n",
       "      <td>9.285</td>\n",
       "    </tr>\n",
       "    <tr>\n",
       "      <th>11734</th>\n",
       "      <td>6.012</td>\n",
       "      <td>6.875</td>\n",
       "    </tr>\n",
       "    <tr>\n",
       "      <th>2052</th>\n",
       "      <td>11.489</td>\n",
       "      <td>5.535</td>\n",
       "    </tr>\n",
       "    <tr>\n",
       "      <th>12363</th>\n",
       "      <td>17.961</td>\n",
       "      <td>3.769</td>\n",
       "    </tr>\n",
       "    <tr>\n",
       "      <th>1954</th>\n",
       "      <td>0.537</td>\n",
       "      <td>2.224</td>\n",
       "    </tr>\n",
       "    <tr>\n",
       "      <th>4042</th>\n",
       "      <td>11.899</td>\n",
       "      <td>8.344</td>\n",
       "    </tr>\n",
       "    <tr>\n",
       "      <th>7639</th>\n",
       "      <td>2.277</td>\n",
       "      <td>5.186</td>\n",
       "    </tr>\n",
       "    <tr>\n",
       "      <th>10907</th>\n",
       "      <td>1.862</td>\n",
       "      <td>8.141</td>\n",
       "    </tr>\n",
       "    <tr>\n",
       "      <th>6106</th>\n",
       "      <td>2.375</td>\n",
       "      <td>7.629</td>\n",
       "    </tr>\n",
       "    <tr>\n",
       "      <th>212</th>\n",
       "      <td>2.539</td>\n",
       "      <td>9.295</td>\n",
       "    </tr>\n",
       "    <tr>\n",
       "      <th>5507</th>\n",
       "      <td>0.401</td>\n",
       "      <td>4.471</td>\n",
       "    </tr>\n",
       "    <tr>\n",
       "      <th>5673</th>\n",
       "      <td>1.712</td>\n",
       "      <td>9.092</td>\n",
       "    </tr>\n",
       "    <tr>\n",
       "      <th>8064</th>\n",
       "      <td>1.025</td>\n",
       "      <td>6.443</td>\n",
       "    </tr>\n",
       "    <tr>\n",
       "      <th>8520</th>\n",
       "      <td>3.146</td>\n",
       "      <td>3.928</td>\n",
       "    </tr>\n",
       "    <tr>\n",
       "      <th>10140</th>\n",
       "      <td>17.711</td>\n",
       "      <td>12.840</td>\n",
       "    </tr>\n",
       "    <tr>\n",
       "      <th>5093</th>\n",
       "      <td>2.237</td>\n",
       "      <td>4.527</td>\n",
       "    </tr>\n",
       "  </tbody>\n",
       "</table>\n",
       "</div>"
      ],
      "text/plain": [
       "       actual  predicted\n",
       "9146   19.135     12.068\n",
       "3171    1.732      7.812\n",
       "6058    2.601      5.316\n",
       "6358    2.047      7.919\n",
       "1726   13.800     11.393\n",
       "3409    1.296      4.097\n",
       "7240    0.501      4.572\n",
       "4805    2.855      9.591\n",
       "14926   2.093      4.715\n",
       "3480   13.582     11.951\n",
       "11037   9.283      9.062\n",
       "14942  14.377     11.773\n",
       "4379   15.172     11.859\n",
       "5208    9.843      5.786\n",
       "4197    5.372      9.285\n",
       "11734   6.012      6.875\n",
       "2052   11.489      5.535\n",
       "12363  17.961      3.769\n",
       "1954    0.537      2.224\n",
       "4042   11.899      8.344\n",
       "7639    2.277      5.186\n",
       "10907   1.862      8.141\n",
       "6106    2.375      7.629\n",
       "212     2.539      9.295\n",
       "5507    0.401      4.471\n",
       "5673    1.712      9.092\n",
       "8064    1.025      6.443\n",
       "8520    3.146      3.928\n",
       "10140  17.711     12.840\n",
       "5093    2.237      4.527"
      ]
     },
     "execution_count": 78,
     "metadata": {},
     "output_type": "execute_result"
    }
   ],
   "source": [
    "df = pd.DataFrame({'actual':testy,'predicted':round(p1,3)})\n",
    "df.head(30)"
   ]
  },
  {
   "cell_type": "markdown",
   "metadata": {},
   "source": [
    "#Visual representation of Actual and predicted value"
   ]
  },
  {
   "cell_type": "markdown",
   "metadata": {},
   "source": [
    "plot the actual and predicted values"
   ]
  },
  {
   "cell_type": "code",
   "execution_count": 79,
   "metadata": {},
   "outputs": [
    {
     "name": "stderr",
     "output_type": "stream",
     "text": [
      "E:\\anaconda\\lib\\site-packages\\seaborn\\distributions.py:2551: FutureWarning: `distplot` is a deprecated function and will be removed in a future version. Please adapt your code to use either `displot` (a figure-level function with similar flexibility) or `kdeplot` (an axes-level function for kernel density plots).\n",
      "  warnings.warn(msg, FutureWarning)\n",
      "E:\\anaconda\\lib\\site-packages\\seaborn\\distributions.py:2551: FutureWarning: `distplot` is a deprecated function and will be removed in a future version. Please adapt your code to use either `displot` (a figure-level function with similar flexibility) or `kdeplot` (an axes-level function for kernel density plots).\n",
      "  warnings.warn(msg, FutureWarning)\n"
     ]
    },
    {
     "data": {
      "text/plain": [
       "<AxesSubplot:xlabel='RMSD', ylabel='Density'>"
      ]
     },
     "execution_count": 79,
     "metadata": {},
     "output_type": "execute_result"
    },
    {
     "data": {
      "image/png": "[encoded data removed]",
      "text/plain": [
       "<Figure size 432x288 with 1 Axes>"
      ]
     },
     "metadata": {},
     "output_type": "display_data"
    }
   ],
   "source": [
    "ax1=sns.distplot(testy,hist=False,color='blue',label='Actual')\n",
    "sns.distplot(p1,hist=False,color='red',label='Predicted',ax=ax1)"
   ]
  },
  {
   "cell_type": "markdown",
   "metadata": {},
   "source": [
    "other considerations<br>\n",
    "VIF (Variance Inflation Factor)"
   ]
  },
  {
   "cell_type": "code",
   "execution_count": 83,
   "metadata": {},
   "outputs": [],
   "source": [
    "vif = pd.DataFrame()"
   ]
  },
  {
   "cell_type": "code",
   "execution_count": 84,
   "metadata": {},
   "outputs": [],
   "source": [
    "vif[\"inflation\"] = [variance_inflation_factor(trainx.values,i) \n",
    "for i in range(trainx.shape[1])]"
   ]
  },
  {
   "cell_type": "code",
   "execution_count": 85,
   "metadata": {},
   "outputs": [],
   "source": [
    "vif['features'] = list(trainx.columns)"
   ]
  },
  {
   "cell_type": "markdown",
   "metadata": {},
   "source": [
    "consider VIF > 10 to remove collinearity<br>\n",
    "sometimes VIF > 6 is also taken as the cutoff"
   ]
  },
  {
   "cell_type": "markdown",
   "metadata": {},
   "source": [
    "build the next model with the significant features and compare the models for the RMSE"
   ]
  },
  {
   "cell_type": "markdown",
   "metadata": {},
   "source": [
    "Box Cox transformation"
   ]
  },
  {
   "cell_type": "code",
   "execution_count": 86,
   "metadata": {},
   "outputs": [],
   "source": [
    "from scipy.stats import boxcox"
   ]
  },
  {
   "cell_type": "markdown",
   "metadata": {},
   "source": [
    "transform data into BoxCox transformed data"
   ]
  },
  {
   "cell_type": "code",
   "execution_count": 87,
   "metadata": {},
   "outputs": [
    {
     "data": {
      "text/plain": [
       "0.7824603941447035"
      ]
     },
     "execution_count": 87,
     "metadata": {},
     "output_type": "execute_result"
    }
   ],
   "source": [
    "d = np.round(np.random.uniform(10,200,100),2)\n",
    "bc_values,lamda = boxcox(d)\n",
    "bc_values\n",
    "lamda"
   ]
  },
  {
   "cell_type": "code",
   "execution_count": 88,
   "metadata": {},
   "outputs": [
    {
     "name": "stdout",
     "output_type": "stream",
     "text": [
      "actual=178.71,BoxCox=72.64\n"
     ]
    }
   ],
   "source": [
    "bc1 = bc_values[0]\n",
    "bc1\n",
    "# compare the original and transformed data\n",
    "print('actual={},BoxCox={}'.format(d[0],round(bc1,2)))"
   ]
  },
  {
   "cell_type": "markdown",
   "metadata": {},
   "source": [
    "transform BoxCox data into its original form"
   ]
  },
  {
   "cell_type": "code",
   "execution_count": 89,
   "metadata": {},
   "outputs": [
    {
     "data": {
      "text/plain": [
       "178.71000000000024"
      ]
     },
     "execution_count": 89,
     "metadata": {},
     "output_type": "execute_result"
    }
   ],
   "source": [
    "orig = np.exp(np.log(bc1 * lamda+1)/lamda)\n",
    "orig"
   ]
  },
  {
   "cell_type": "markdown",
   "metadata": {},
   "source": [
    "##############################################################################"
   ]
  },
  {
   "cell_type": "markdown",
   "metadata": {},
   "source": [
    "#trying Decison tree to improove the result"
   ]
  },
  {
   "cell_type": "markdown",
   "metadata": {},
   "source": [
    "#2) Decision Tree Regression"
   ]
  },
  {
   "cell_type": "code",
   "execution_count": 90,
   "metadata": {},
   "outputs": [],
   "source": [
    "from sklearn.tree import DecisionTreeRegressor"
   ]
  },
  {
   "cell_type": "code",
   "execution_count": 91,
   "metadata": {},
   "outputs": [
    {
     "data": {
      "text/plain": [
       "27.96"
      ]
     },
     "execution_count": 91,
     "metadata": {},
     "output_type": "execute_result"
    }
   ],
   "source": [
    "m2 = DecisionTreeRegressor(criterion=\"mse\",max_depth=5).fit(trainx,trainy)\n",
    "p2 = m2.predict(testx)\n",
    "mse2 = round(mean_squared_error(testy,p2),3)\n",
    "mse2"
   ]
  },
  {
   "cell_type": "markdown",
   "metadata": {},
   "source": [
    "# 3rd model Random Forest"
   ]
  },
  {
   "cell_type": "markdown",
   "metadata": {},
   "source": [
    "3) Random Forest Regression"
   ]
  },
  {
   "cell_type": "code",
   "execution_count": 97,
   "metadata": {},
   "outputs": [],
   "source": [
    "from sklearn.ensemble import RandomForestRegressor"
   ]
  },
  {
   "cell_type": "markdown",
   "metadata": {},
   "source": [
    "without any hyper-parameter tuning. Add, whatever is required"
   ]
  },
  {
   "cell_type": "code",
   "execution_count": 99,
   "metadata": {},
   "outputs": [
    {
     "data": {
      "text/plain": [
       "17.778"
      ]
     },
     "execution_count": 99,
     "metadata": {},
     "output_type": "execute_result"
    }
   ],
   "source": [
    "m3 = RandomForestRegressor().fit(trainx,trainy)\n",
    "p3 = m3.predict(testx)\n",
    "mse3 = round(mean_squared_error(testy,p3),3)\n",
    "mse3\n",
    "mse3"
   ]
  },
  {
   "cell_type": "markdown",
   "metadata": {},
   "source": [
    "4) kNN Regression"
   ]
  },
  {
   "cell_type": "markdown",
   "metadata": {},
   "source": [
    "# 4th M KNN regressor"
   ]
  },
  {
   "cell_type": "code",
   "execution_count": 100,
   "metadata": {},
   "outputs": [],
   "source": [
    "from sklearn import neighbors,preprocessing"
   ]
  },
  {
   "cell_type": "markdown",
   "metadata": {},
   "source": [
    "standardize the data"
   ]
  },
  {
   "cell_type": "code",
   "execution_count": 101,
   "metadata": {},
   "outputs": [],
   "source": [
    "trainx_std = trainx.copy()\n",
    "testx_std = testx.copy()"
   ]
  },
  {
   "cell_type": "code",
   "execution_count": 102,
   "metadata": {},
   "outputs": [],
   "source": [
    "minmax=preprocessing.MinMaxScaler()"
   ]
  },
  {
   "cell_type": "markdown",
   "metadata": {},
   "source": [
    "scale the train data"
   ]
  },
  {
   "cell_type": "code",
   "execution_count": 103,
   "metadata": {},
   "outputs": [],
   "source": [
    "sc=minmax.fit_transform(trainx_std.iloc[:,:])\n",
    "trainx_std.iloc[:,:] = sc"
   ]
  },
  {
   "cell_type": "markdown",
   "metadata": {},
   "source": [
    "scale the test data"
   ]
  },
  {
   "cell_type": "code",
   "execution_count": 104,
   "metadata": {},
   "outputs": [],
   "source": [
    "sc=minmax.fit_transform(testx_std.iloc[:,:])\n",
    "testx_std.iloc[:,:] = sc"
   ]
  },
  {
   "cell_type": "code",
   "execution_count": 105,
   "metadata": {},
   "outputs": [
    {
     "data": {
      "text/html": [
       "<div>\n",
       "<style scoped>\n",
       "    .dataframe tbody tr th:only-of-type {\n",
       "        vertical-align: middle;\n",
       "    }\n",
       "\n",
       "    .dataframe tbody tr th {\n",
       "        vertical-align: top;\n",
       "    }\n",
       "\n",
       "    .dataframe thead th {\n",
       "        text-align: right;\n",
       "    }\n",
       "</style>\n",
       "<table border=\"1\" class=\"dataframe\">\n",
       "  <thead>\n",
       "    <tr style=\"text-align: right;\">\n",
       "      <th></th>\n",
       "      <th>const</th>\n",
       "      <th>tot_surf_area</th>\n",
       "      <th>npe_area</th>\n",
       "      <th>fa_enpr</th>\n",
       "      <th>fa_enppr</th>\n",
       "      <th>molmass_ea</th>\n",
       "      <th>avg_dev</th>\n",
       "      <th>euc_dist</th>\n",
       "      <th>sdc</th>\n",
       "    </tr>\n",
       "  </thead>\n",
       "  <tbody>\n",
       "    <tr>\n",
       "      <th>3613</th>\n",
       "      <td>0.0</td>\n",
       "      <td>0.171624</td>\n",
       "      <td>0.215294</td>\n",
       "      <td>0.606282</td>\n",
       "      <td>0.331704</td>\n",
       "      <td>0.168738</td>\n",
       "      <td>0.286181</td>\n",
       "      <td>0.051224</td>\n",
       "      <td>0.375594</td>\n",
       "    </tr>\n",
       "    <tr>\n",
       "      <th>12164</th>\n",
       "      <td>0.0</td>\n",
       "      <td>0.074326</td>\n",
       "      <td>0.093231</td>\n",
       "      <td>0.455047</td>\n",
       "      <td>0.139744</td>\n",
       "      <td>0.073377</td>\n",
       "      <td>0.101606</td>\n",
       "      <td>0.036727</td>\n",
       "      <td>0.548425</td>\n",
       "    </tr>\n",
       "    <tr>\n",
       "      <th>10123</th>\n",
       "      <td>0.0</td>\n",
       "      <td>0.096893</td>\n",
       "      <td>0.073493</td>\n",
       "      <td>0.271454</td>\n",
       "      <td>0.169460</td>\n",
       "      <td>0.097291</td>\n",
       "      <td>0.104939</td>\n",
       "      <td>0.038748</td>\n",
       "      <td>0.519446</td>\n",
       "    </tr>\n",
       "  </tbody>\n",
       "</table>\n",
       "</div>"
      ],
      "text/plain": [
       "       const  tot_surf_area  npe_area   fa_enpr  fa_enppr  molmass_ea  \\\n",
       "3613     0.0       0.171624  0.215294  0.606282  0.331704    0.168738   \n",
       "12164    0.0       0.074326  0.093231  0.455047  0.139744    0.073377   \n",
       "10123    0.0       0.096893  0.073493  0.271454  0.169460    0.097291   \n",
       "\n",
       "        avg_dev  euc_dist       sdc  \n",
       "3613   0.286181  0.051224  0.375594  \n",
       "12164  0.101606  0.036727  0.548425  \n",
       "10123  0.104939  0.038748  0.519446  "
      ]
     },
     "execution_count": 105,
     "metadata": {},
     "output_type": "execute_result"
    }
   ],
   "source": [
    "trainx_std.head(3)"
   ]
  },
  {
   "cell_type": "markdown",
   "metadata": {},
   "source": [
    "for regression, take NN between 3-11 (include even numbers)"
   ]
  },
  {
   "cell_type": "code",
   "execution_count": 106,
   "metadata": {},
   "outputs": [
    {
     "data": {
      "text/plain": [
       "[3, 4, 5, 6, 7, 8, 9, 10, 11]"
      ]
     },
     "execution_count": 106,
     "metadata": {},
     "output_type": "execute_result"
    }
   ],
   "source": [
    "nn = range(3,12)\n",
    "list(nn)"
   ]
  },
  {
   "cell_type": "code",
   "execution_count": 107,
   "metadata": {},
   "outputs": [],
   "source": [
    "mse_cv = []"
   ]
  },
  {
   "cell_type": "code",
   "execution_count": 108,
   "metadata": {},
   "outputs": [],
   "source": [
    "for k in nn:\n",
    "    m=neighbors.KNeighborsRegressor(n_neighbors=k).fit(trainx_std,trainy)\n",
    "    err=cross_val_score(m,trainx_std,trainy,cv=5,scoring='neg_mean_squared_error')\n",
    "    err = np.round(np.mean(err),3)\n",
    "    mse_cv.append(err)"
   ]
  },
  {
   "cell_type": "markdown",
   "metadata": {},
   "source": [
    "the MSE scores are all in -ve numbers. Convert to +ve"
   ]
  },
  {
   "cell_type": "code",
   "execution_count": 109,
   "metadata": {},
   "outputs": [
    {
     "name": "stdout",
     "output_type": "stream",
     "text": [
      "[-23.428, -22.537, -21.942, -21.848, -21.773, -21.791, -21.789, -21.82, -21.848]\n"
     ]
    }
   ],
   "source": [
    "print(mse_cv)"
   ]
  },
  {
   "cell_type": "markdown",
   "metadata": {},
   "source": [
    "convert all -ve to +ve numbers using lambda()"
   ]
  },
  {
   "cell_type": "code",
   "execution_count": 110,
   "metadata": {},
   "outputs": [],
   "source": [
    "mse_cv = list(map(lambda x:abs(x),mse_cv))"
   ]
  },
  {
   "cell_type": "markdown",
   "metadata": {},
   "source": [
    "select the lowest MSE score and its corresponding K-value"
   ]
  },
  {
   "cell_type": "code",
   "execution_count": 111,
   "metadata": {},
   "outputs": [],
   "source": [
    "bestk = nn[mse_cv.index(min(mse_cv))]"
   ]
  },
  {
   "cell_type": "markdown",
   "metadata": {},
   "source": [
    "Build the kNN model with the bestK"
   ]
  },
  {
   "cell_type": "code",
   "execution_count": 112,
   "metadata": {},
   "outputs": [
    {
     "data": {
      "text/plain": [
       "48.70854553769823"
      ]
     },
     "execution_count": 112,
     "metadata": {},
     "output_type": "execute_result"
    }
   ],
   "source": [
    "m4 = neighbors.KNeighborsRegressor(n_neighbors=bestk).fit(trainx_std,trainy)\n",
    "p4 = m4.predict(testx_std)\n",
    "mse4 = mean_squared_error(testy,p4)\n",
    "mse4"
   ]
  },
  {
   "cell_type": "markdown",
   "metadata": {},
   "source": [
    "SVM Regression"
   ]
  },
  {
   "cell_type": "markdown",
   "metadata": {},
   "source": [
    "#5th model SVM regressor"
   ]
  },
  {
   "cell_type": "code",
   "execution_count": 114,
   "metadata": {},
   "outputs": [],
   "source": [
    "from sklearn import svm,preprocessing"
   ]
  },
  {
   "cell_type": "markdown",
   "metadata": {},
   "source": [
    "since data is already scaled, we can directly use the kernels on the scaled data"
   ]
  },
  {
   "cell_type": "code",
   "execution_count": 115,
   "metadata": {},
   "outputs": [
    {
     "data": {
      "text/plain": [
       "['linear', 'rbf', 'poly', 'sigmoid']"
      ]
     },
     "execution_count": 115,
     "metadata": {},
     "output_type": "execute_result"
    }
   ],
   "source": [
    "kernels = ['linear', 'rbf', 'poly', 'sigmoid']\n",
    "kernels"
   ]
  },
  {
   "cell_type": "markdown",
   "metadata": {},
   "source": [
    "determine the R-square for each regression model, for each Kernel"
   ]
  },
  {
   "cell_type": "code",
   "execution_count": 116,
   "metadata": {},
   "outputs": [
    {
     "name": "stdout",
     "output_type": "stream",
     "text": [
      "Kernel = linear, R-Square = 0.19505317138129818\n",
      "Kernel = rbf, R-Square = 0.2824517384966292\n",
      "Kernel = poly, R-Square = -0.26498550583704783\n",
      "Kernel = sigmoid, R-Square = -79.0210159242371\n"
     ]
    }
   ],
   "source": [
    "for k in kernels:\n",
    "    m = svm.SVR(kernel = k).fit(trainx_std,trainy)\n",
    "    rsq = m.score(testx_std,testy)\n",
    "    print(\"Kernel = {}, R-Square = {}\".format(k, rsq))"
   ]
  },
  {
   "cell_type": "markdown",
   "metadata": {},
   "source": [
    "based on the R-square, it is clear that Sigmoid kernel does not fit the data properly. "
   ]
  },
  {
   "cell_type": "markdown",
   "metadata": {},
   "source": [
    "SVM regression"
   ]
  },
  {
   "cell_type": "code",
   "execution_count": 117,
   "metadata": {},
   "outputs": [],
   "source": [
    "def svmRegression(ker,trainx,trainy,testx,testy,bestc=1,bestg='scale'):\n",
    "    model=svm.SVR(kernel=ker,C=bestc,gamma=bestg).fit(trainx,trainy)\n",
    "    pred = model.predict(testx)\n",
    "    mse = mean_squared_error(testy,pred)\n",
    "    return(pred, mse)"
   ]
  },
  {
   "cell_type": "code",
   "execution_count": 118,
   "metadata": {},
   "outputs": [],
   "source": [
    "m_mse=[]; p5=[]"
   ]
  },
  {
   "cell_type": "markdown",
   "metadata": {},
   "source": [
    "run the regression model for each Kernel"
   ]
  },
  {
   "cell_type": "code",
   "execution_count": 119,
   "metadata": {},
   "outputs": [],
   "source": [
    "for k in kernels:\n",
    "    pred,mseval=svmRegression(k,trainx_std,trainy,testx_std,testy)  \n",
    "    p5.append(pred)\n",
    "    m_mse.append(round(mseval,3))"
   ]
  },
  {
   "cell_type": "markdown",
   "metadata": {},
   "source": [
    "create a dataframe to store the MSE's"
   ]
  },
  {
   "cell_type": "markdown",
   "metadata": {},
   "source": [
    "# Final Result Dataframe"
   ]
  },
  {
   "cell_type": "code",
   "execution_count": 120,
   "metadata": {},
   "outputs": [],
   "source": [
    "df_mse=pd.DataFrame({'LR':[mse1], 'DT':[mse2],\n",
    "                      'RF':[mse3], 'kNN':[mse4],\n",
    "                     'SVM-linear': [m_mse[0]],\n",
    "                     'SVM-rbf': [m_mse[1]],\n",
    "                     'SVM-poly': [m_mse[2]],\n",
    "                     'SVM-sig': [m_mse[3]] \n",
    "                     })"
   ]
  },
  {
   "cell_type": "code",
   "execution_count": 121,
   "metadata": {},
   "outputs": [
    {
     "name": "stdout",
     "output_type": "stream",
     "text": [
      "       LR     DT      RF        kNN  SVM-linear  SVM-rbf  SVM-poly   SVM-sig\n",
      "0  27.355  27.96  17.778  48.708546      29.746   26.516    46.746  2957.079\n"
     ]
    }
   ],
   "source": [
    "print(df_mse)"
   ]
  },
  {
   "cell_type": "markdown",
   "metadata": {},
   "source": [
    "transpose the data"
   ]
  },
  {
   "cell_type": "code",
   "execution_count": 122,
   "metadata": {},
   "outputs": [
    {
     "data": {
      "text/html": [
       "<div>\n",
       "<style scoped>\n",
       "    .dataframe tbody tr th:only-of-type {\n",
       "        vertical-align: middle;\n",
       "    }\n",
       "\n",
       "    .dataframe tbody tr th {\n",
       "        vertical-align: top;\n",
       "    }\n",
       "\n",
       "    .dataframe thead th {\n",
       "        text-align: right;\n",
       "    }\n",
       "</style>\n",
       "<table border=\"1\" class=\"dataframe\">\n",
       "  <thead>\n",
       "    <tr style=\"text-align: right;\">\n",
       "      <th></th>\n",
       "      <th>0</th>\n",
       "    </tr>\n",
       "  </thead>\n",
       "  <tbody>\n",
       "    <tr>\n",
       "      <th>LR</th>\n",
       "      <td>27.355000</td>\n",
       "    </tr>\n",
       "    <tr>\n",
       "      <th>DT</th>\n",
       "      <td>27.960000</td>\n",
       "    </tr>\n",
       "    <tr>\n",
       "      <th>RF</th>\n",
       "      <td>17.778000</td>\n",
       "    </tr>\n",
       "    <tr>\n",
       "      <th>kNN</th>\n",
       "      <td>48.708546</td>\n",
       "    </tr>\n",
       "    <tr>\n",
       "      <th>SVM-linear</th>\n",
       "      <td>29.746000</td>\n",
       "    </tr>\n",
       "    <tr>\n",
       "      <th>SVM-rbf</th>\n",
       "      <td>26.516000</td>\n",
       "    </tr>\n",
       "    <tr>\n",
       "      <th>SVM-poly</th>\n",
       "      <td>46.746000</td>\n",
       "    </tr>\n",
       "    <tr>\n",
       "      <th>SVM-sig</th>\n",
       "      <td>2957.079000</td>\n",
       "    </tr>\n",
       "  </tbody>\n",
       "</table>\n",
       "</div>"
      ],
      "text/plain": [
       "                      0\n",
       "LR            27.355000\n",
       "DT            27.960000\n",
       "RF            17.778000\n",
       "kNN           48.708546\n",
       "SVM-linear    29.746000\n",
       "SVM-rbf       26.516000\n",
       "SVM-poly      46.746000\n",
       "SVM-sig     2957.079000"
      ]
     },
     "execution_count": 122,
     "metadata": {},
     "output_type": "execute_result"
    }
   ],
   "source": [
    "df_mse.T\n",
    "    \n",
    "# create a dataframe to store the Actual / Predicted values"
   ]
  },
  {
   "cell_type": "code",
   "execution_count": 123,
   "metadata": {},
   "outputs": [],
   "source": [
    "df_vals = pd.DataFrame({'actual':testy,\n",
    "                        'LR':p1,\n",
    "                       'DT':p2,\n",
    "                       'RF':p3,\n",
    "                       'kNN':p4,\n",
    "                     'SVM-linear': p5[0],\n",
    "                     'SVM-rbf':  p5[1],\n",
    "                     'SVM-poly': p5[2],\n",
    "                     'SVM-sig': p5[3] } )"
   ]
  },
  {
   "cell_type": "code",
   "execution_count": 124,
   "metadata": {},
   "outputs": [],
   "source": [
    "df_vals\n",
    "    \n",
    "# visualise the Actual vs Predicted Data\n",
    "def showPlot(act,pred,model):\n",
    "    ax1=sns.distplot(act,hist=False,color='r',label='Actual')\n",
    "    sns.distplot(pred,hist=False,color='b',label='Predicted',ax=ax1)\n",
    "    plt.title('Actual vs Predicted. Model = ' + model)\n",
    "    "
   ]
  },
  {
   "cell_type": "markdown",
   "metadata": {},
   "source": [
    "function call to display the chart"
   ]
  },
  {
   "cell_type": "code",
   "execution_count": 125,
   "metadata": {},
   "outputs": [
    {
     "name": "stderr",
     "output_type": "stream",
     "text": [
      "E:\\anaconda\\lib\\site-packages\\seaborn\\distributions.py:2551: FutureWarning: `distplot` is a deprecated function and will be removed in a future version. Please adapt your code to use either `displot` (a figure-level function with similar flexibility) or `kdeplot` (an axes-level function for kernel density plots).\n",
      "  warnings.warn(msg, FutureWarning)\n",
      "E:\\anaconda\\lib\\site-packages\\seaborn\\distributions.py:2551: FutureWarning: `distplot` is a deprecated function and will be removed in a future version. Please adapt your code to use either `displot` (a figure-level function with similar flexibility) or `kdeplot` (an axes-level function for kernel density plots).\n",
      "  warnings.warn(msg, FutureWarning)\n"
     ]
    },
    {
     "data": {
      "image/png": "[encoded data removed]",
      "text/plain": [
       "<Figure size 432x288 with 1 Axes>"
      ]
     },
     "metadata": {},
     "output_type": "display_data"
    }
   ],
   "source": [
    "showPlot(df_vals.actual,df_vals['RF'],'Random Forest')  \n",
    "    "
   ]
  }
 ],
 "metadata": {
  "kernelspec": {
   "display_name": "Python 3",
   "language": "python",
   "name": "python3"
  },
  "language_info": {
   "codemirror_mode": {
    "name": "ipython",
    "version": 3
   },
   "file_extension": ".py",
   "mimetype": "text/x-python",
   "name": "python",
   "nbconvert_exporter": "python",
   "pygments_lexer": "ipython3",
   "version": "3.8.5"
  }
 },
 "nbformat": 4,
 "nbformat_minor": 2
}
